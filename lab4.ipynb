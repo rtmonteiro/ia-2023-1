{
  "nbformat": 4,
  "nbformat_minor": 0,
  "metadata": {
    "colab": {
      "provenance": [],
      "authorship_tag": "ABX9TyOG2p/jesfoHNPatFe0PKvO",
      "include_colab_link": true
    },
    "kernelspec": {
      "name": "python3",
      "display_name": "Python 3"
    },
    "language_info": {
      "name": "python"
    }
  },
  "cells": [
    {
      "cell_type": "markdown",
      "metadata": {
        "id": "view-in-github",
        "colab_type": "text"
      },
      "source": [
        "<a href=\"https://colab.research.google.com/github/rtmonteiro/ia-2023-1/blob/main/lab4.ipynb\" target=\"_parent\"><img src=\"https://colab.research.google.com/assets/colab-badge.svg\" alt=\"Open In Colab\"/></a>"
      ]
    },
    {
      "cell_type": "markdown",
      "source": [
        "1. Carregue a base iris e a separe em treino e teste usando 40% dos exemplos para teste. Reduza a base de treino para ter apenas os 24 exemplos iniciais e a de teste para ter apenas os 16 exemplos iniciais. Considere que o valor 1.5 representa um elemento ausente. Substitua as ocorrências de valores ausentes pelo valor mais frequente nas bases de treino e de teste reduzidas."
      ],
      "metadata": {
        "id": "dHWaq4mRIZu4"
      }
    },
    {
      "cell_type": "code",
      "source": [
        "from sklearn import datasets\n",
        "from sklearn.model_selection import train_test_split\n",
        "\n",
        "ds = datasets.load_iris()\n",
        "\n",
        "X_train, X_test, y_train, y_test = train_test_split(ds.data, \n",
        "                    ds.target, test_size=0.4, random_state=0)\n",
        "\n",
        "X_train = X_train[slice(24)]\n",
        "X_test = X_test[slice(16)]\n",
        "\n",
        "# print(X_train)\n",
        "# print(X_test)"
      ],
      "metadata": {
        "id": "XDmHNAMHKL75"
      },
      "execution_count": 1,
      "outputs": []
    },
    {
      "cell_type": "code",
      "source": [
        "from sklearn.impute import SimpleImputer\n",
        "\n",
        "imp = SimpleImputer(missing_values=1.5, strategy=\"most_frequent\")\n",
        "imp2 = SimpleImputer(missing_values=1.5, strategy=\"most_frequent\")\n",
        "\n",
        "print(\"Train\")\n",
        "print(imp.fit_transform(X_train))\n",
        "print(\"Teste\")\n",
        "print(imp2.fit_transform(X_test))"
      ],
      "metadata": {
        "id": "x0i8ClW2On9o",
        "colab": {
          "base_uri": "https://localhost:8080/"
        },
        "outputId": "5861f263-984c-49aa-f35a-2e72951d84d6"
      },
      "execution_count": 2,
      "outputs": [
        {
          "output_type": "stream",
          "name": "stdout",
          "text": [
            "Train\n",
            "[[6.  3.4 4.5 1.6]\n",
            " [4.8 3.1 1.6 0.2]\n",
            " [5.8 2.7 5.1 1.9]\n",
            " [5.6 2.7 4.2 1.3]\n",
            " [5.6 2.9 3.6 1.3]\n",
            " [5.5 2.5 4.  1.3]\n",
            " [6.1 3.  4.6 1.4]\n",
            " [7.2 3.2 6.  1.8]\n",
            " [5.3 3.7 4.2 0.2]\n",
            " [4.3 3.  1.1 0.1]\n",
            " [6.4 2.7 5.3 1.9]\n",
            " [5.7 3.  4.2 1.2]\n",
            " [5.4 3.4 1.7 0.2]\n",
            " [5.7 4.4 4.2 0.4]\n",
            " [6.9 3.1 4.9 0.2]\n",
            " [4.6 3.1 4.2 0.2]\n",
            " [5.9 3.  5.1 1.8]\n",
            " [5.1 2.5 3.  1.1]\n",
            " [4.6 3.4 1.4 0.3]\n",
            " [6.2 2.2 4.5 0.2]\n",
            " [7.2 3.6 6.1 2.5]\n",
            " [5.7 2.9 4.2 1.3]\n",
            " [4.8 3.  1.4 0.1]\n",
            " [7.1 3.  5.9 2.1]]\n",
            "Teste\n",
            "[[5.8 2.8 5.1 2.4]\n",
            " [6.  2.2 4.  1. ]\n",
            " [5.5 4.2 1.4 0.2]\n",
            " [7.3 2.9 6.3 1.8]\n",
            " [5.  3.4 4.7 0.2]\n",
            " [6.3 3.3 6.  2.5]\n",
            " [5.  3.5 1.3 0.3]\n",
            " [6.7 3.1 4.7 1.4]\n",
            " [6.8 2.8 4.8 1.4]\n",
            " [6.1 2.8 4.  1.3]\n",
            " [6.1 2.6 5.6 1.4]\n",
            " [6.4 3.2 4.5 1.4]\n",
            " [6.1 2.8 4.7 1.2]\n",
            " [6.5 2.8 4.6 1.4]\n",
            " [6.1 2.9 4.7 1.4]\n",
            " [4.9 3.6 1.4 0.1]]\n"
          ]
        }
      ]
    },
    {
      "cell_type": "markdown",
      "source": [
        "2. Utilize agora os mesmos valores mais frequentes usados na base de treino na base de teste do exercício 1."
      ],
      "metadata": {
        "id": "eIA2u5W8P-fS"
      }
    },
    {
      "cell_type": "code",
      "source": [
        "imp.fit(X_train)\n",
        "print(imp.transform(X_test))"
      ],
      "metadata": {
        "colab": {
          "base_uri": "https://localhost:8080/"
        },
        "id": "QdzKlN_1QCUL",
        "outputId": "b378df87-a485-4e08-dea2-58044a836d38"
      },
      "execution_count": 3,
      "outputs": [
        {
          "output_type": "stream",
          "name": "stdout",
          "text": [
            "[[5.8 2.8 5.1 2.4]\n",
            " [6.  2.2 4.  1. ]\n",
            " [5.5 4.2 1.4 0.2]\n",
            " [7.3 2.9 6.3 1.8]\n",
            " [5.  3.4 4.2 0.2]\n",
            " [6.3 3.3 6.  2.5]\n",
            " [5.  3.5 1.3 0.3]\n",
            " [6.7 3.1 4.7 0.2]\n",
            " [6.8 2.8 4.8 1.4]\n",
            " [6.1 2.8 4.  1.3]\n",
            " [6.1 2.6 5.6 1.4]\n",
            " [6.4 3.2 4.5 0.2]\n",
            " [6.1 2.8 4.7 1.2]\n",
            " [6.5 2.8 4.6 0.2]\n",
            " [6.1 2.9 4.7 1.4]\n",
            " [4.9 3.6 1.4 0.1]]\n"
          ]
        }
      ]
    },
    {
      "cell_type": "markdown",
      "source": [
        "3. Padronize a base de treino do exercício 1 e utilize os mesmos fatores de normalização para\n",
        "padronizar a base de teste."
      ],
      "metadata": {
        "id": "gEsyg36EQkgk"
      }
    },
    {
      "cell_type": "code",
      "source": [
        "from sklearn import preprocessing\n",
        "\n",
        "scaler = preprocessing.StandardScaler().fit(X_train)\n",
        "X_train_scaler = scaler.transform(X_train)\n",
        "print('Train')\n",
        "print(X_train_scaler)\n",
        "\n",
        "X_test_scaler = scaler.transform(X_test)\n",
        "print('\\nTest')\n",
        "print(X_test_scaler)\n",
        "\n",
        "X_scaled = preprocessing.scale(X_train)\n",
        "print ('\\nMean: ', X_scaled.mean(axis=0))\n",
        "print ('Standard Deviation: ', X_scaled.std(axis=0))"
      ],
      "metadata": {
        "colab": {
          "base_uri": "https://localhost:8080/"
        },
        "id": "U6x3p_b6Qn9D",
        "outputId": "f3a411e9-8b70-459f-e681-67d470956744"
      },
      "execution_count": 4,
      "outputs": [
        {
          "output_type": "stream",
          "name": "stdout",
          "text": [
            "Train\n",
            "[[ 0.33603962  0.76296356  0.52477983  0.64940905]\n",
            " [-1.15287438  0.08477373 -1.20624749 -1.2988181 ]\n",
            " [ 0.08788728 -0.81947938  0.88292342  1.0668863 ]\n",
            " [-0.16026505 -0.81947938  0.34570804  0.2319318 ]\n",
            " [-0.16026505 -0.36735282 -0.01243554  0.2319318 ]\n",
            " [-0.28434121 -1.27160593  0.22632685  0.2319318 ]\n",
            " [ 0.46011578 -0.14128955  0.58447043  0.37109089]\n",
            " [ 1.82495362  0.310837    1.42013879  0.92772721]\n",
            " [-0.53249355  1.44115338 -1.26593808 -1.2988181 ]\n",
            " [-1.77325521 -0.14128955 -1.50470047 -1.43797718]\n",
            " [ 0.83234428 -0.81947938  1.00230461  1.0668863 ]\n",
            " [-0.03618888 -0.14128955  0.34570804  0.09277272]\n",
            " [-0.40841738  0.76296356 -1.14655689 -1.2988181 ]\n",
            " [-0.03618888  3.02359632 -1.26593808 -1.02049994]\n",
            " [ 1.45272512  0.08477373  0.76354222  0.51024997]\n",
            " [-1.40102671  0.08477373 -1.26593808 -1.2988181 ]\n",
            " [ 0.21196345 -0.14128955  0.88292342  0.92772721]\n",
            " [-0.78064588 -1.27160593 -0.37057912 -0.04638636]\n",
            " [-1.40102671  0.76296356 -1.32562868 -1.15965902]\n",
            " [ 0.58419195 -1.94979576  0.52477983  0.51024997]\n",
            " [ 1.82495362  1.21509011  1.47982939  1.90184079]\n",
            " [-0.03618888 -0.36735282  0.34570804  0.2319318 ]\n",
            " [-1.15287438 -0.14128955 -1.32562868 -1.43797718]\n",
            " [ 1.70087745 -0.14128955  1.3604482   1.34520446]]\n",
            "\n",
            "Test\n",
            "[[ 0.08788728 -0.5934161   0.88292342  1.76268171]\n",
            " [ 0.33603962 -1.94979576  0.22632685 -0.18554544]\n",
            " [-0.28434121  2.57146976 -1.32562868 -1.2988181 ]\n",
            " [ 1.94902978 -0.36735282  1.59921059  0.92772721]\n",
            " [-0.90472205  0.76296356 -1.26593808 -1.2988181 ]\n",
            " [ 0.70826812  0.53690028  1.42013879  1.90184079]\n",
            " [-0.90472205  0.98902683 -1.38531928 -1.15965902]\n",
            " [ 1.20457278  0.08477373  0.64416103  0.51024997]\n",
            " [ 1.32864895 -0.5934161   0.70385163  0.37109089]\n",
            " [ 0.46011578 -0.5934161   0.22632685  0.2319318 ]\n",
            " [ 0.46011578 -1.04554265  1.18137641  0.37109089]\n",
            " [ 0.83234428  0.310837    0.52477983  0.51024997]\n",
            " [ 0.46011578 -0.5934161   0.64416103  0.09277272]\n",
            " [ 0.95642045 -0.5934161   0.58447043  0.51024997]\n",
            " [ 0.46011578 -0.36735282  0.64416103  0.37109089]\n",
            " [-1.02879821  1.21509011 -1.32562868 -1.43797718]]\n",
            "\n",
            "Mean:  [-4.34837351e-16  1.17961196e-16 -4.16333634e-16 -2.59052039e-16]\n",
            "Standard Deviation:  [1. 1. 1. 1.]\n"
          ]
        }
      ]
    },
    {
      "cell_type": "markdown",
      "source": [
        "4. Discretize a base Z_Train usando a estratégia de igual frequência nos intervalos e utilize os mesmos intervalos para discretizar a base Z_Test. Repita depois usando a estratégia de igual tamanho dos intervalos. Atenção: crie novas bases para não alterar a definição original de Z_Train e Z_Test."
      ],
      "metadata": {
        "id": "PhfkusQwV40y"
      }
    },
    {
      "cell_type": "code",
      "source": [
        "est = preprocessing.KBinsDiscretizer(n_bins=[6, 3, 4, 2], \n",
        "                                     encode='ordinal').fit(X_train)\n",
        "X_bin = est.transform(X_train)\n",
        "print(X_bin)\n",
        "\n",
        "X_bin_test = est.transform(X_test)\n",
        "print(X_bin_test)"
      ],
      "metadata": {
        "colab": {
          "base_uri": "https://localhost:8080/"
        },
        "id": "VcIUVfHvV-Mk",
        "outputId": "6096ff8a-a085-408b-c95a-edb5d482c19b"
      },
      "execution_count": 5,
      "outputs": [
        {
          "output_type": "stream",
          "name": "stdout",
          "text": [
            "[[4. 2. 2. 1.]\n",
            " [1. 2. 1. 0.]\n",
            " [3. 0. 3. 1.]\n",
            " [2. 0. 2. 1.]\n",
            " [2. 0. 1. 1.]\n",
            " [2. 0. 1. 1.]\n",
            " [4. 1. 2. 1.]\n",
            " [5. 2. 3. 1.]\n",
            " [1. 2. 0. 0.]\n",
            " [0. 1. 0. 0.]\n",
            " [4. 0. 3. 1.]\n",
            " [3. 1. 2. 0.]\n",
            " [1. 2. 1. 0.]\n",
            " [3. 2. 0. 0.]\n",
            " [5. 2. 2. 1.]\n",
            " [0. 2. 0. 0.]\n",
            " [3. 1. 3. 1.]\n",
            " [1. 0. 1. 0.]\n",
            " [0. 2. 0. 0.]\n",
            " [4. 0. 2. 1.]\n",
            " [5. 2. 3. 1.]\n",
            " [3. 0. 2. 1.]\n",
            " [1. 1. 0. 0.]\n",
            " [5. 1. 3. 1.]]\n",
            "[[3. 0. 3. 1.]\n",
            " [4. 0. 1. 0.]\n",
            " [2. 2. 0. 0.]\n",
            " [5. 0. 3. 1.]\n",
            " [1. 2. 0. 0.]\n",
            " [4. 2. 3. 1.]\n",
            " [1. 2. 0. 0.]\n",
            " [5. 2. 2. 1.]\n",
            " [5. 0. 2. 1.]\n",
            " [4. 0. 1. 1.]\n",
            " [4. 0. 3. 1.]\n",
            " [4. 2. 2. 1.]\n",
            " [4. 0. 2. 0.]\n",
            " [5. 0. 2. 1.]\n",
            " [4. 0. 2. 1.]\n",
            " [1. 2. 0. 0.]]\n"
          ]
        }
      ]
    },
    {
      "cell_type": "code",
      "source": [
        "est = preprocessing.KBinsDiscretizer(n_bins=[6, 3, 4, 2], \n",
        "                    encode='ordinal', strategy='uniform').fit(X_train)\n",
        "X_bin = est.transform(X_train)\n",
        "print(X_bin)"
      ],
      "metadata": {
        "colab": {
          "base_uri": "https://localhost:8080/"
        },
        "id": "igLi5P_qcC_n",
        "outputId": "7009571b-c80e-4118-a460-7217aa8c2b9f"
      },
      "execution_count": 6,
      "outputs": [
        {
          "output_type": "stream",
          "name": "stdout",
          "text": [
            "[[3. 1. 2. 1.]\n",
            " [1. 1. 0. 0.]\n",
            " [3. 0. 3. 1.]\n",
            " [2. 0. 2. 1.]\n",
            " [2. 0. 2. 1.]\n",
            " [2. 0. 2. 1.]\n",
            " [3. 1. 2. 1.]\n",
            " [5. 1. 3. 1.]\n",
            " [2. 2. 0. 0.]\n",
            " [0. 1. 0. 0.]\n",
            " [4. 0. 3. 1.]\n",
            " [2. 1. 2. 0.]\n",
            " [2. 1. 0. 0.]\n",
            " [2. 2. 0. 0.]\n",
            " [5. 1. 3. 1.]\n",
            " [0. 1. 0. 0.]\n",
            " [3. 1. 3. 1.]\n",
            " [1. 0. 1. 0.]\n",
            " [0. 1. 0. 0.]\n",
            " [3. 0. 2. 1.]\n",
            " [5. 1. 3. 1.]\n",
            " [2. 0. 2. 1.]\n",
            " [1. 1. 0. 0.]\n",
            " [5. 1. 3. 1.]]\n"
          ]
        }
      ]
    },
    {
      "cell_type": "markdown",
      "source": [
        "5. Leia a base de dados breast cancer e execute 3 rodadas de validação cruzada aninhada \n",
        "estratificada, porém use padronização em todas as características da base. Use o classificador KNN com k = {1, 3, 5}. Apresente a acurácia obtida em cada fold de teste, assim como a média da acurácia, desvio padrão e intervalo de confiança."
      ],
      "metadata": {
        "id": "7h2aF5fLcnin"
      }
    },
    {
      "cell_type": "code",
      "source": [
        "import numpy as np\n",
        "from sklearn import datasets\n",
        "from scipy import stats\n",
        "from sklearn.model_selection import cross_val_score, RepeatedStratifiedKFold\n",
        "from sklearn.neighbors import KNeighborsClassifier\n",
        "from sklearn.preprocessing import StandardScaler\n",
        "from sklearn.pipeline import Pipeline\n",
        "\n",
        "bc = datasets.load_breast_cancer()\n",
        "\n",
        "X_train, X_test, y_train, y_test = train_test_split(bc.data, \n",
        "                    bc.target, test_size=0.4, random_state=0)\n"
      ],
      "metadata": {
        "id": "V15AGJAOctOn"
      },
      "execution_count": 7,
      "outputs": []
    },
    {
      "cell_type": "markdown",
      "source": [
        "6. Crie um dataset com 5 exemplos com dados nominais para condições do dia com temperatura (baixa, média e alta), aparência (ensolarado, nublado, chuvoso) e vento (pouco, muito). Transforme os dados de temperatura e vento para o formato ordinal e o de aparência para o formato binário."
      ],
      "metadata": {
        "id": "9tB0dEXiQTCD"
      }
    },
    {
      "cell_type": "code",
      "source": [
        "import pandas as pd\n",
        "\n",
        "df = pd.DataFrame([\n",
        "    ['alta', 'chuvoso', 'pouco'],\n",
        "    ['alta', 'chuvoso', 'muito'],\n",
        "    ['alta', 'nublado', 'pouco'],\n",
        "    ['média', 'ensolarado', 'pouco'],\n",
        "    ['baixa', 'ensolarado', 'pouco']\n",
        "])\n",
        "\n",
        "df.columns = ['temp', 'aparência', 'vento']\n",
        "df"
      ],
      "metadata": {
        "colab": {
          "base_uri": "https://localhost:8080/",
          "height": 206
        },
        "id": "GBhUmONuQZTy",
        "outputId": "f08b3ebc-6a34-4dbf-e4e3-f745abe68ade"
      },
      "execution_count": 18,
      "outputs": [
        {
          "output_type": "execute_result",
          "data": {
            "text/plain": [
              "    temp   aparência  vento\n",
              "0   alta     chuvoso  pouco\n",
              "1   alta     chuvoso  muito\n",
              "2   alta     nublado  pouco\n",
              "3  média  ensolarado  pouco\n",
              "4  baixa  ensolarado  pouco"
            ],
            "text/html": [
              "\n",
              "  <div id=\"df-d4299dc6-2ea5-4c3c-b7a2-584be3c403e2\">\n",
              "    <div class=\"colab-df-container\">\n",
              "      <div>\n",
              "<style scoped>\n",
              "    .dataframe tbody tr th:only-of-type {\n",
              "        vertical-align: middle;\n",
              "    }\n",
              "\n",
              "    .dataframe tbody tr th {\n",
              "        vertical-align: top;\n",
              "    }\n",
              "\n",
              "    .dataframe thead th {\n",
              "        text-align: right;\n",
              "    }\n",
              "</style>\n",
              "<table border=\"1\" class=\"dataframe\">\n",
              "  <thead>\n",
              "    <tr style=\"text-align: right;\">\n",
              "      <th></th>\n",
              "      <th>temp</th>\n",
              "      <th>aparência</th>\n",
              "      <th>vento</th>\n",
              "    </tr>\n",
              "  </thead>\n",
              "  <tbody>\n",
              "    <tr>\n",
              "      <th>0</th>\n",
              "      <td>alta</td>\n",
              "      <td>chuvoso</td>\n",
              "      <td>pouco</td>\n",
              "    </tr>\n",
              "    <tr>\n",
              "      <th>1</th>\n",
              "      <td>alta</td>\n",
              "      <td>chuvoso</td>\n",
              "      <td>muito</td>\n",
              "    </tr>\n",
              "    <tr>\n",
              "      <th>2</th>\n",
              "      <td>alta</td>\n",
              "      <td>nublado</td>\n",
              "      <td>pouco</td>\n",
              "    </tr>\n",
              "    <tr>\n",
              "      <th>3</th>\n",
              "      <td>média</td>\n",
              "      <td>ensolarado</td>\n",
              "      <td>pouco</td>\n",
              "    </tr>\n",
              "    <tr>\n",
              "      <th>4</th>\n",
              "      <td>baixa</td>\n",
              "      <td>ensolarado</td>\n",
              "      <td>pouco</td>\n",
              "    </tr>\n",
              "  </tbody>\n",
              "</table>\n",
              "</div>\n",
              "      <button class=\"colab-df-convert\" onclick=\"convertToInteractive('df-d4299dc6-2ea5-4c3c-b7a2-584be3c403e2')\"\n",
              "              title=\"Convert this dataframe to an interactive table.\"\n",
              "              style=\"display:none;\">\n",
              "        \n",
              "  <svg xmlns=\"http://www.w3.org/2000/svg\" height=\"24px\"viewBox=\"0 0 24 24\"\n",
              "       width=\"24px\">\n",
              "    <path d=\"M0 0h24v24H0V0z\" fill=\"none\"/>\n",
              "    <path d=\"M18.56 5.44l.94 2.06.94-2.06 2.06-.94-2.06-.94-.94-2.06-.94 2.06-2.06.94zm-11 1L8.5 8.5l.94-2.06 2.06-.94-2.06-.94L8.5 2.5l-.94 2.06-2.06.94zm10 10l.94 2.06.94-2.06 2.06-.94-2.06-.94-.94-2.06-.94 2.06-2.06.94z\"/><path d=\"M17.41 7.96l-1.37-1.37c-.4-.4-.92-.59-1.43-.59-.52 0-1.04.2-1.43.59L10.3 9.45l-7.72 7.72c-.78.78-.78 2.05 0 2.83L4 21.41c.39.39.9.59 1.41.59.51 0 1.02-.2 1.41-.59l7.78-7.78 2.81-2.81c.8-.78.8-2.07 0-2.86zM5.41 20L4 18.59l7.72-7.72 1.47 1.35L5.41 20z\"/>\n",
              "  </svg>\n",
              "      </button>\n",
              "      \n",
              "  <style>\n",
              "    .colab-df-container {\n",
              "      display:flex;\n",
              "      flex-wrap:wrap;\n",
              "      gap: 12px;\n",
              "    }\n",
              "\n",
              "    .colab-df-convert {\n",
              "      background-color: #E8F0FE;\n",
              "      border: none;\n",
              "      border-radius: 50%;\n",
              "      cursor: pointer;\n",
              "      display: none;\n",
              "      fill: #1967D2;\n",
              "      height: 32px;\n",
              "      padding: 0 0 0 0;\n",
              "      width: 32px;\n",
              "    }\n",
              "\n",
              "    .colab-df-convert:hover {\n",
              "      background-color: #E2EBFA;\n",
              "      box-shadow: 0px 1px 2px rgba(60, 64, 67, 0.3), 0px 1px 3px 1px rgba(60, 64, 67, 0.15);\n",
              "      fill: #174EA6;\n",
              "    }\n",
              "\n",
              "    [theme=dark] .colab-df-convert {\n",
              "      background-color: #3B4455;\n",
              "      fill: #D2E3FC;\n",
              "    }\n",
              "\n",
              "    [theme=dark] .colab-df-convert:hover {\n",
              "      background-color: #434B5C;\n",
              "      box-shadow: 0px 1px 3px 1px rgba(0, 0, 0, 0.15);\n",
              "      filter: drop-shadow(0px 1px 2px rgba(0, 0, 0, 0.3));\n",
              "      fill: #FFFFFF;\n",
              "    }\n",
              "  </style>\n",
              "\n",
              "      <script>\n",
              "        const buttonEl =\n",
              "          document.querySelector('#df-d4299dc6-2ea5-4c3c-b7a2-584be3c403e2 button.colab-df-convert');\n",
              "        buttonEl.style.display =\n",
              "          google.colab.kernel.accessAllowed ? 'block' : 'none';\n",
              "\n",
              "        async function convertToInteractive(key) {\n",
              "          const element = document.querySelector('#df-d4299dc6-2ea5-4c3c-b7a2-584be3c403e2');\n",
              "          const dataTable =\n",
              "            await google.colab.kernel.invokeFunction('convertToInteractive',\n",
              "                                                     [key], {});\n",
              "          if (!dataTable) return;\n",
              "\n",
              "          const docLinkHtml = 'Like what you see? Visit the ' +\n",
              "            '<a target=\"_blank\" href=https://colab.research.google.com/notebooks/data_table.ipynb>data table notebook</a>'\n",
              "            + ' to learn more about interactive tables.';\n",
              "          element.innerHTML = '';\n",
              "          dataTable['output_type'] = 'display_data';\n",
              "          await google.colab.output.renderOutput(dataTable, element);\n",
              "          const docLink = document.createElement('div');\n",
              "          docLink.innerHTML = docLinkHtml;\n",
              "          element.appendChild(docLink);\n",
              "        }\n",
              "      </script>\n",
              "    </div>\n",
              "  </div>\n",
              "  "
            ]
          },
          "metadata": {},
          "execution_count": 18
        }
      ]
    },
    {
      "cell_type": "code",
      "source": [
        "# Transforma temperatura em Nominal\n",
        "enc = preprocessing.OrdinalEncoder()\n",
        "enc.fit(df[['temp']])\n",
        "df[['temp']] = enc.transform(df[['temp']])\n",
        "df"
      ],
      "metadata": {
        "colab": {
          "base_uri": "https://localhost:8080/",
          "height": 206
        },
        "id": "0bhPZIbXVUDK",
        "outputId": "05b6a2bb-1a07-4c57-8f01-5eeabb7b0992"
      },
      "execution_count": 19,
      "outputs": [
        {
          "output_type": "execute_result",
          "data": {
            "text/plain": [
              "   temp   aparência  vento\n",
              "0   0.0     chuvoso  pouco\n",
              "1   0.0     chuvoso  muito\n",
              "2   0.0     nublado  pouco\n",
              "3   2.0  ensolarado  pouco\n",
              "4   1.0  ensolarado  pouco"
            ],
            "text/html": [
              "\n",
              "  <div id=\"df-f5048186-c457-4a73-b69b-4189b1465496\">\n",
              "    <div class=\"colab-df-container\">\n",
              "      <div>\n",
              "<style scoped>\n",
              "    .dataframe tbody tr th:only-of-type {\n",
              "        vertical-align: middle;\n",
              "    }\n",
              "\n",
              "    .dataframe tbody tr th {\n",
              "        vertical-align: top;\n",
              "    }\n",
              "\n",
              "    .dataframe thead th {\n",
              "        text-align: right;\n",
              "    }\n",
              "</style>\n",
              "<table border=\"1\" class=\"dataframe\">\n",
              "  <thead>\n",
              "    <tr style=\"text-align: right;\">\n",
              "      <th></th>\n",
              "      <th>temp</th>\n",
              "      <th>aparência</th>\n",
              "      <th>vento</th>\n",
              "    </tr>\n",
              "  </thead>\n",
              "  <tbody>\n",
              "    <tr>\n",
              "      <th>0</th>\n",
              "      <td>0.0</td>\n",
              "      <td>chuvoso</td>\n",
              "      <td>pouco</td>\n",
              "    </tr>\n",
              "    <tr>\n",
              "      <th>1</th>\n",
              "      <td>0.0</td>\n",
              "      <td>chuvoso</td>\n",
              "      <td>muito</td>\n",
              "    </tr>\n",
              "    <tr>\n",
              "      <th>2</th>\n",
              "      <td>0.0</td>\n",
              "      <td>nublado</td>\n",
              "      <td>pouco</td>\n",
              "    </tr>\n",
              "    <tr>\n",
              "      <th>3</th>\n",
              "      <td>2.0</td>\n",
              "      <td>ensolarado</td>\n",
              "      <td>pouco</td>\n",
              "    </tr>\n",
              "    <tr>\n",
              "      <th>4</th>\n",
              "      <td>1.0</td>\n",
              "      <td>ensolarado</td>\n",
              "      <td>pouco</td>\n",
              "    </tr>\n",
              "  </tbody>\n",
              "</table>\n",
              "</div>\n",
              "      <button class=\"colab-df-convert\" onclick=\"convertToInteractive('df-f5048186-c457-4a73-b69b-4189b1465496')\"\n",
              "              title=\"Convert this dataframe to an interactive table.\"\n",
              "              style=\"display:none;\">\n",
              "        \n",
              "  <svg xmlns=\"http://www.w3.org/2000/svg\" height=\"24px\"viewBox=\"0 0 24 24\"\n",
              "       width=\"24px\">\n",
              "    <path d=\"M0 0h24v24H0V0z\" fill=\"none\"/>\n",
              "    <path d=\"M18.56 5.44l.94 2.06.94-2.06 2.06-.94-2.06-.94-.94-2.06-.94 2.06-2.06.94zm-11 1L8.5 8.5l.94-2.06 2.06-.94-2.06-.94L8.5 2.5l-.94 2.06-2.06.94zm10 10l.94 2.06.94-2.06 2.06-.94-2.06-.94-.94-2.06-.94 2.06-2.06.94z\"/><path d=\"M17.41 7.96l-1.37-1.37c-.4-.4-.92-.59-1.43-.59-.52 0-1.04.2-1.43.59L10.3 9.45l-7.72 7.72c-.78.78-.78 2.05 0 2.83L4 21.41c.39.39.9.59 1.41.59.51 0 1.02-.2 1.41-.59l7.78-7.78 2.81-2.81c.8-.78.8-2.07 0-2.86zM5.41 20L4 18.59l7.72-7.72 1.47 1.35L5.41 20z\"/>\n",
              "  </svg>\n",
              "      </button>\n",
              "      \n",
              "  <style>\n",
              "    .colab-df-container {\n",
              "      display:flex;\n",
              "      flex-wrap:wrap;\n",
              "      gap: 12px;\n",
              "    }\n",
              "\n",
              "    .colab-df-convert {\n",
              "      background-color: #E8F0FE;\n",
              "      border: none;\n",
              "      border-radius: 50%;\n",
              "      cursor: pointer;\n",
              "      display: none;\n",
              "      fill: #1967D2;\n",
              "      height: 32px;\n",
              "      padding: 0 0 0 0;\n",
              "      width: 32px;\n",
              "    }\n",
              "\n",
              "    .colab-df-convert:hover {\n",
              "      background-color: #E2EBFA;\n",
              "      box-shadow: 0px 1px 2px rgba(60, 64, 67, 0.3), 0px 1px 3px 1px rgba(60, 64, 67, 0.15);\n",
              "      fill: #174EA6;\n",
              "    }\n",
              "\n",
              "    [theme=dark] .colab-df-convert {\n",
              "      background-color: #3B4455;\n",
              "      fill: #D2E3FC;\n",
              "    }\n",
              "\n",
              "    [theme=dark] .colab-df-convert:hover {\n",
              "      background-color: #434B5C;\n",
              "      box-shadow: 0px 1px 3px 1px rgba(0, 0, 0, 0.15);\n",
              "      filter: drop-shadow(0px 1px 2px rgba(0, 0, 0, 0.3));\n",
              "      fill: #FFFFFF;\n",
              "    }\n",
              "  </style>\n",
              "\n",
              "      <script>\n",
              "        const buttonEl =\n",
              "          document.querySelector('#df-f5048186-c457-4a73-b69b-4189b1465496 button.colab-df-convert');\n",
              "        buttonEl.style.display =\n",
              "          google.colab.kernel.accessAllowed ? 'block' : 'none';\n",
              "\n",
              "        async function convertToInteractive(key) {\n",
              "          const element = document.querySelector('#df-f5048186-c457-4a73-b69b-4189b1465496');\n",
              "          const dataTable =\n",
              "            await google.colab.kernel.invokeFunction('convertToInteractive',\n",
              "                                                     [key], {});\n",
              "          if (!dataTable) return;\n",
              "\n",
              "          const docLinkHtml = 'Like what you see? Visit the ' +\n",
              "            '<a target=\"_blank\" href=https://colab.research.google.com/notebooks/data_table.ipynb>data table notebook</a>'\n",
              "            + ' to learn more about interactive tables.';\n",
              "          element.innerHTML = '';\n",
              "          dataTable['output_type'] = 'display_data';\n",
              "          await google.colab.output.renderOutput(dataTable, element);\n",
              "          const docLink = document.createElement('div');\n",
              "          docLink.innerHTML = docLinkHtml;\n",
              "          element.appendChild(docLink);\n",
              "        }\n",
              "      </script>\n",
              "    </div>\n",
              "  </div>\n",
              "  "
            ]
          },
          "metadata": {},
          "execution_count": 19
        }
      ]
    },
    {
      "cell_type": "code",
      "source": [
        "# Transforma vento em Nominal\n",
        "enc = preprocessing.OrdinalEncoder()\n",
        "enc.fit(df[['vento']])\n",
        "df[['vento']] = enc.transform(df[['vento']])\n",
        "df"
      ],
      "metadata": {
        "colab": {
          "base_uri": "https://localhost:8080/",
          "height": 206
        },
        "id": "oLxUjXrlVcW7",
        "outputId": "ecfdf791-52b9-4b8b-ccce-79a33552f42d"
      },
      "execution_count": 20,
      "outputs": [
        {
          "output_type": "execute_result",
          "data": {
            "text/plain": [
              "   temp   aparência  vento\n",
              "0   0.0     chuvoso    1.0\n",
              "1   0.0     chuvoso    0.0\n",
              "2   0.0     nublado    1.0\n",
              "3   2.0  ensolarado    1.0\n",
              "4   1.0  ensolarado    1.0"
            ],
            "text/html": [
              "\n",
              "  <div id=\"df-0e8fc5fe-a844-4685-a9c3-4324588acd36\">\n",
              "    <div class=\"colab-df-container\">\n",
              "      <div>\n",
              "<style scoped>\n",
              "    .dataframe tbody tr th:only-of-type {\n",
              "        vertical-align: middle;\n",
              "    }\n",
              "\n",
              "    .dataframe tbody tr th {\n",
              "        vertical-align: top;\n",
              "    }\n",
              "\n",
              "    .dataframe thead th {\n",
              "        text-align: right;\n",
              "    }\n",
              "</style>\n",
              "<table border=\"1\" class=\"dataframe\">\n",
              "  <thead>\n",
              "    <tr style=\"text-align: right;\">\n",
              "      <th></th>\n",
              "      <th>temp</th>\n",
              "      <th>aparência</th>\n",
              "      <th>vento</th>\n",
              "    </tr>\n",
              "  </thead>\n",
              "  <tbody>\n",
              "    <tr>\n",
              "      <th>0</th>\n",
              "      <td>0.0</td>\n",
              "      <td>chuvoso</td>\n",
              "      <td>1.0</td>\n",
              "    </tr>\n",
              "    <tr>\n",
              "      <th>1</th>\n",
              "      <td>0.0</td>\n",
              "      <td>chuvoso</td>\n",
              "      <td>0.0</td>\n",
              "    </tr>\n",
              "    <tr>\n",
              "      <th>2</th>\n",
              "      <td>0.0</td>\n",
              "      <td>nublado</td>\n",
              "      <td>1.0</td>\n",
              "    </tr>\n",
              "    <tr>\n",
              "      <th>3</th>\n",
              "      <td>2.0</td>\n",
              "      <td>ensolarado</td>\n",
              "      <td>1.0</td>\n",
              "    </tr>\n",
              "    <tr>\n",
              "      <th>4</th>\n",
              "      <td>1.0</td>\n",
              "      <td>ensolarado</td>\n",
              "      <td>1.0</td>\n",
              "    </tr>\n",
              "  </tbody>\n",
              "</table>\n",
              "</div>\n",
              "      <button class=\"colab-df-convert\" onclick=\"convertToInteractive('df-0e8fc5fe-a844-4685-a9c3-4324588acd36')\"\n",
              "              title=\"Convert this dataframe to an interactive table.\"\n",
              "              style=\"display:none;\">\n",
              "        \n",
              "  <svg xmlns=\"http://www.w3.org/2000/svg\" height=\"24px\"viewBox=\"0 0 24 24\"\n",
              "       width=\"24px\">\n",
              "    <path d=\"M0 0h24v24H0V0z\" fill=\"none\"/>\n",
              "    <path d=\"M18.56 5.44l.94 2.06.94-2.06 2.06-.94-2.06-.94-.94-2.06-.94 2.06-2.06.94zm-11 1L8.5 8.5l.94-2.06 2.06-.94-2.06-.94L8.5 2.5l-.94 2.06-2.06.94zm10 10l.94 2.06.94-2.06 2.06-.94-2.06-.94-.94-2.06-.94 2.06-2.06.94z\"/><path d=\"M17.41 7.96l-1.37-1.37c-.4-.4-.92-.59-1.43-.59-.52 0-1.04.2-1.43.59L10.3 9.45l-7.72 7.72c-.78.78-.78 2.05 0 2.83L4 21.41c.39.39.9.59 1.41.59.51 0 1.02-.2 1.41-.59l7.78-7.78 2.81-2.81c.8-.78.8-2.07 0-2.86zM5.41 20L4 18.59l7.72-7.72 1.47 1.35L5.41 20z\"/>\n",
              "  </svg>\n",
              "      </button>\n",
              "      \n",
              "  <style>\n",
              "    .colab-df-container {\n",
              "      display:flex;\n",
              "      flex-wrap:wrap;\n",
              "      gap: 12px;\n",
              "    }\n",
              "\n",
              "    .colab-df-convert {\n",
              "      background-color: #E8F0FE;\n",
              "      border: none;\n",
              "      border-radius: 50%;\n",
              "      cursor: pointer;\n",
              "      display: none;\n",
              "      fill: #1967D2;\n",
              "      height: 32px;\n",
              "      padding: 0 0 0 0;\n",
              "      width: 32px;\n",
              "    }\n",
              "\n",
              "    .colab-df-convert:hover {\n",
              "      background-color: #E2EBFA;\n",
              "      box-shadow: 0px 1px 2px rgba(60, 64, 67, 0.3), 0px 1px 3px 1px rgba(60, 64, 67, 0.15);\n",
              "      fill: #174EA6;\n",
              "    }\n",
              "\n",
              "    [theme=dark] .colab-df-convert {\n",
              "      background-color: #3B4455;\n",
              "      fill: #D2E3FC;\n",
              "    }\n",
              "\n",
              "    [theme=dark] .colab-df-convert:hover {\n",
              "      background-color: #434B5C;\n",
              "      box-shadow: 0px 1px 3px 1px rgba(0, 0, 0, 0.15);\n",
              "      filter: drop-shadow(0px 1px 2px rgba(0, 0, 0, 0.3));\n",
              "      fill: #FFFFFF;\n",
              "    }\n",
              "  </style>\n",
              "\n",
              "      <script>\n",
              "        const buttonEl =\n",
              "          document.querySelector('#df-0e8fc5fe-a844-4685-a9c3-4324588acd36 button.colab-df-convert');\n",
              "        buttonEl.style.display =\n",
              "          google.colab.kernel.accessAllowed ? 'block' : 'none';\n",
              "\n",
              "        async function convertToInteractive(key) {\n",
              "          const element = document.querySelector('#df-0e8fc5fe-a844-4685-a9c3-4324588acd36');\n",
              "          const dataTable =\n",
              "            await google.colab.kernel.invokeFunction('convertToInteractive',\n",
              "                                                     [key], {});\n",
              "          if (!dataTable) return;\n",
              "\n",
              "          const docLinkHtml = 'Like what you see? Visit the ' +\n",
              "            '<a target=\"_blank\" href=https://colab.research.google.com/notebooks/data_table.ipynb>data table notebook</a>'\n",
              "            + ' to learn more about interactive tables.';\n",
              "          element.innerHTML = '';\n",
              "          dataTable['output_type'] = 'display_data';\n",
              "          await google.colab.output.renderOutput(dataTable, element);\n",
              "          const docLink = document.createElement('div');\n",
              "          docLink.innerHTML = docLinkHtml;\n",
              "          element.appendChild(docLink);\n",
              "        }\n",
              "      </script>\n",
              "    </div>\n",
              "  </div>\n",
              "  "
            ]
          },
          "metadata": {},
          "execution_count": 20
        }
      ]
    },
    {
      "cell_type": "code",
      "source": [
        "# Transforma aparência em Binário\n",
        "# data = np.asarray(df[[\"aparência\"]])\n",
        "# print('\\n', data)\n",
        "# encoder = preprocessing.OneHotEncoder(sparse_output=False)\n",
        "# onehot = encoder.fit_transform(data)\n",
        "# print('\\n', onehot)\n",
        "\n",
        "df = pd.get_dummies(df[['temp', 'aparência', 'vento']])\n",
        "df"
      ],
      "metadata": {
        "colab": {
          "base_uri": "https://localhost:8080/",
          "height": 206
        },
        "id": "OG_LmNToVfc-",
        "outputId": "8ed402b9-c165-43a8-a91f-9fe6e0cb0074"
      },
      "execution_count": 21,
      "outputs": [
        {
          "output_type": "execute_result",
          "data": {
            "text/plain": [
              "   temp  vento  aparência_chuvoso  aparência_ensolarado  aparência_nublado\n",
              "0   0.0    1.0                  1                     0                  0\n",
              "1   0.0    0.0                  1                     0                  0\n",
              "2   0.0    1.0                  0                     0                  1\n",
              "3   2.0    1.0                  0                     1                  0\n",
              "4   1.0    1.0                  0                     1                  0"
            ],
            "text/html": [
              "\n",
              "  <div id=\"df-87cae99e-ac55-48f2-a84c-97d6241f44b1\">\n",
              "    <div class=\"colab-df-container\">\n",
              "      <div>\n",
              "<style scoped>\n",
              "    .dataframe tbody tr th:only-of-type {\n",
              "        vertical-align: middle;\n",
              "    }\n",
              "\n",
              "    .dataframe tbody tr th {\n",
              "        vertical-align: top;\n",
              "    }\n",
              "\n",
              "    .dataframe thead th {\n",
              "        text-align: right;\n",
              "    }\n",
              "</style>\n",
              "<table border=\"1\" class=\"dataframe\">\n",
              "  <thead>\n",
              "    <tr style=\"text-align: right;\">\n",
              "      <th></th>\n",
              "      <th>temp</th>\n",
              "      <th>vento</th>\n",
              "      <th>aparência_chuvoso</th>\n",
              "      <th>aparência_ensolarado</th>\n",
              "      <th>aparência_nublado</th>\n",
              "    </tr>\n",
              "  </thead>\n",
              "  <tbody>\n",
              "    <tr>\n",
              "      <th>0</th>\n",
              "      <td>0.0</td>\n",
              "      <td>1.0</td>\n",
              "      <td>1</td>\n",
              "      <td>0</td>\n",
              "      <td>0</td>\n",
              "    </tr>\n",
              "    <tr>\n",
              "      <th>1</th>\n",
              "      <td>0.0</td>\n",
              "      <td>0.0</td>\n",
              "      <td>1</td>\n",
              "      <td>0</td>\n",
              "      <td>0</td>\n",
              "    </tr>\n",
              "    <tr>\n",
              "      <th>2</th>\n",
              "      <td>0.0</td>\n",
              "      <td>1.0</td>\n",
              "      <td>0</td>\n",
              "      <td>0</td>\n",
              "      <td>1</td>\n",
              "    </tr>\n",
              "    <tr>\n",
              "      <th>3</th>\n",
              "      <td>2.0</td>\n",
              "      <td>1.0</td>\n",
              "      <td>0</td>\n",
              "      <td>1</td>\n",
              "      <td>0</td>\n",
              "    </tr>\n",
              "    <tr>\n",
              "      <th>4</th>\n",
              "      <td>1.0</td>\n",
              "      <td>1.0</td>\n",
              "      <td>0</td>\n",
              "      <td>1</td>\n",
              "      <td>0</td>\n",
              "    </tr>\n",
              "  </tbody>\n",
              "</table>\n",
              "</div>\n",
              "      <button class=\"colab-df-convert\" onclick=\"convertToInteractive('df-87cae99e-ac55-48f2-a84c-97d6241f44b1')\"\n",
              "              title=\"Convert this dataframe to an interactive table.\"\n",
              "              style=\"display:none;\">\n",
              "        \n",
              "  <svg xmlns=\"http://www.w3.org/2000/svg\" height=\"24px\"viewBox=\"0 0 24 24\"\n",
              "       width=\"24px\">\n",
              "    <path d=\"M0 0h24v24H0V0z\" fill=\"none\"/>\n",
              "    <path d=\"M18.56 5.44l.94 2.06.94-2.06 2.06-.94-2.06-.94-.94-2.06-.94 2.06-2.06.94zm-11 1L8.5 8.5l.94-2.06 2.06-.94-2.06-.94L8.5 2.5l-.94 2.06-2.06.94zm10 10l.94 2.06.94-2.06 2.06-.94-2.06-.94-.94-2.06-.94 2.06-2.06.94z\"/><path d=\"M17.41 7.96l-1.37-1.37c-.4-.4-.92-.59-1.43-.59-.52 0-1.04.2-1.43.59L10.3 9.45l-7.72 7.72c-.78.78-.78 2.05 0 2.83L4 21.41c.39.39.9.59 1.41.59.51 0 1.02-.2 1.41-.59l7.78-7.78 2.81-2.81c.8-.78.8-2.07 0-2.86zM5.41 20L4 18.59l7.72-7.72 1.47 1.35L5.41 20z\"/>\n",
              "  </svg>\n",
              "      </button>\n",
              "      \n",
              "  <style>\n",
              "    .colab-df-container {\n",
              "      display:flex;\n",
              "      flex-wrap:wrap;\n",
              "      gap: 12px;\n",
              "    }\n",
              "\n",
              "    .colab-df-convert {\n",
              "      background-color: #E8F0FE;\n",
              "      border: none;\n",
              "      border-radius: 50%;\n",
              "      cursor: pointer;\n",
              "      display: none;\n",
              "      fill: #1967D2;\n",
              "      height: 32px;\n",
              "      padding: 0 0 0 0;\n",
              "      width: 32px;\n",
              "    }\n",
              "\n",
              "    .colab-df-convert:hover {\n",
              "      background-color: #E2EBFA;\n",
              "      box-shadow: 0px 1px 2px rgba(60, 64, 67, 0.3), 0px 1px 3px 1px rgba(60, 64, 67, 0.15);\n",
              "      fill: #174EA6;\n",
              "    }\n",
              "\n",
              "    [theme=dark] .colab-df-convert {\n",
              "      background-color: #3B4455;\n",
              "      fill: #D2E3FC;\n",
              "    }\n",
              "\n",
              "    [theme=dark] .colab-df-convert:hover {\n",
              "      background-color: #434B5C;\n",
              "      box-shadow: 0px 1px 3px 1px rgba(0, 0, 0, 0.15);\n",
              "      filter: drop-shadow(0px 1px 2px rgba(0, 0, 0, 0.3));\n",
              "      fill: #FFFFFF;\n",
              "    }\n",
              "  </style>\n",
              "\n",
              "      <script>\n",
              "        const buttonEl =\n",
              "          document.querySelector('#df-87cae99e-ac55-48f2-a84c-97d6241f44b1 button.colab-df-convert');\n",
              "        buttonEl.style.display =\n",
              "          google.colab.kernel.accessAllowed ? 'block' : 'none';\n",
              "\n",
              "        async function convertToInteractive(key) {\n",
              "          const element = document.querySelector('#df-87cae99e-ac55-48f2-a84c-97d6241f44b1');\n",
              "          const dataTable =\n",
              "            await google.colab.kernel.invokeFunction('convertToInteractive',\n",
              "                                                     [key], {});\n",
              "          if (!dataTable) return;\n",
              "\n",
              "          const docLinkHtml = 'Like what you see? Visit the ' +\n",
              "            '<a target=\"_blank\" href=https://colab.research.google.com/notebooks/data_table.ipynb>data table notebook</a>'\n",
              "            + ' to learn more about interactive tables.';\n",
              "          element.innerHTML = '';\n",
              "          dataTable['output_type'] = 'display_data';\n",
              "          await google.colab.output.renderOutput(dataTable, element);\n",
              "          const docLink = document.createElement('div');\n",
              "          docLink.innerHTML = docLinkHtml;\n",
              "          element.appendChild(docLink);\n",
              "        }\n",
              "      </script>\n",
              "    </div>\n",
              "  </div>\n",
              "  "
            ]
          },
          "metadata": {},
          "execution_count": 21
        }
      ]
    },
    {
      "cell_type": "markdown",
      "source": [
        "7. Compare o desempenho em termos de acurácia do método PCA com três componentes com o método de seleção univariada de características usando análise de variância e selecionando 3 características no dataset wine. Use o classificador Vizinho Mais Próximo (k = 1) e o método de divisão percentual com 30% da base usada para teste."
      ],
      "metadata": {
        "id": "GwI-HGhqUKRV"
      }
    },
    {
      "cell_type": "code",
      "source": [
        "from sklearn.decomposition import PCA\n",
        "from sklearn import datasets\n",
        "\n",
        "wine = datasets.load_wine()\n",
        "\n",
        "X_train, X_test, y_train, y_test = train_test_split(\n",
        "    wine.data, wine.target, test_size=0.3, random_state=0)\n",
        "\n",
        "pca = PCA(n_components=3)\n",
        "pca_tr = pca.fit(X_train)\n",
        "X_ts = pca_tr.transform(X_test)\n",
        "# print(X_test)\n",
        "# print(X_ts)"
      ],
      "metadata": {
        "id": "3BCLASPjUOXq"
      },
      "execution_count": 24,
      "outputs": []
    },
    {
      "cell_type": "code",
      "source": [
        "from sklearn.feature_selection import SelectKBest\n",
        "\n",
        "wine_X_train, wine_X_test, wine_y_train, wine_y_test = train_test_split(\n",
        "    wine.data, wine.target, test_size=0.4, random_state=0)\n",
        "wine_X_b = SelectKBest(k=3).fit_transform(wine_X_train, y_train)\n",
        "# print (wine_X_train)\n",
        "# print (wine_X_b)"
      ],
      "metadata": {
        "id": "lCIzCJUXajwJ"
      },
      "execution_count": 27,
      "outputs": []
    },
    {
      "cell_type": "code",
      "source": [
        "from sklearn.neighbors import KNeighborsClassifier\n",
        "oneNN = KNeighborsClassifier(n_neighbors=1)\n",
        "oneNN.fit(wine_X_b, wine_y_train)\n",
        "\n"
      ],
      "metadata": {
        "id": "Gf1rsipea-O9"
      },
      "execution_count": null,
      "outputs": []
    },
    {
      "cell_type": "markdown",
      "source": [
        "8. Obtenha o desempenho (acurácia média, desvio padrão e intervalo de confiança a 95%) do\n",
        "método de seleção multivariada de características com seleção sequencial para frente e selecionando 3 características no dataset wine. Use padronização, o classificador K Vizinhos Mais Próximo (k = 1, 3 ou 5) e o método de validação cruzada aninhada com 3 repetições de 10 folds."
      ],
      "metadata": {
        "id": "CuarOeV4dxrG"
      }
    },
    {
      "cell_type": "markdown",
      "source": [
        "Obtenha o desempenho (acurácia média, desvio padrão e intervalo de confiança a 95%)\n",
        "\n"
      ],
      "metadata": {
        "id": "9USLehRefgOD"
      }
    },
    {
      "cell_type": "markdown",
      "source": [
        "método de seleção multivariada de características com seleção sequencial para frente"
      ],
      "metadata": {
        "id": "GQlpKFDYfsgK"
      }
    },
    {
      "cell_type": "code",
      "source": [
        "from sklearn.neighbors import KNeighborsClassifier\n",
        "\n",
        "oneNN = KNeighborsClassifier(n_neighbors=1)\n",
        "\n",
        "from sklearn.feature_selection import SequentialFeatureSelector\n",
        "\n",
        "sfs_forward = SequentialFeatureSelector(oneNN, n_features_to_select=2,\n",
        "                direction='forward').fit(X_train, y_train)\n",
        "\n",
        "feature_names = np.array(wine.feature_names)\n",
        "\n",
        "print(\"Features selected by forward sequential selection: \")\n",
        "print(feature_names[sfs_forward.get_support()])"
      ],
      "metadata": {
        "colab": {
          "base_uri": "https://localhost:8080/"
        },
        "id": "682Us0pdfCt8",
        "outputId": "64de6df7-982c-41fc-bb77-6dbe33798bcf"
      },
      "execution_count": 28,
      "outputs": [
        {
          "output_type": "stream",
          "name": "stdout",
          "text": [
            "Features selected by forward sequential selection: \n",
            "['alcohol' 'flavanoids']\n"
          ]
        }
      ]
    },
    {
      "cell_type": "markdown",
      "source": [
        "Use padronização"
      ],
      "metadata": {
        "id": "hPVc2Poof40C"
      }
    },
    {
      "cell_type": "markdown",
      "source": [
        "o classificador K Vizinhos Mais Próximo (k = 1, 3 ou 5)"
      ],
      "metadata": {
        "id": "mD8hNT0Ef-G7"
      }
    },
    {
      "cell_type": "markdown",
      "source": [
        "o método de validação cruzada aninhada com 3 repetições de 10 folds"
      ],
      "metadata": {
        "id": "q2_ohzGSgBa0"
      }
    },
    {
      "cell_type": "code",
      "source": [],
      "metadata": {
        "id": "tlHeoTOlhgEJ"
      },
      "execution_count": null,
      "outputs": []
    }
  ]
}