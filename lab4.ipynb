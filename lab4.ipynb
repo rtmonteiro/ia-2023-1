{
  "nbformat": 4,
  "nbformat_minor": 0,
  "metadata": {
    "colab": {
      "provenance": [],
      "authorship_tag": "ABX9TyNMGCLRkMHkkipyedHln7JT",
      "include_colab_link": true
    },
    "kernelspec": {
      "name": "python3",
      "display_name": "Python 3"
    },
    "language_info": {
      "name": "python"
    }
  },
  "cells": [
    {
      "cell_type": "markdown",
      "metadata": {
        "id": "view-in-github",
        "colab_type": "text"
      },
      "source": [
        "<a href=\"https://colab.research.google.com/github/rtmonteiro/ia-2023-1/blob/main/lab4.ipynb\" target=\"_parent\"><img src=\"https://colab.research.google.com/assets/colab-badge.svg\" alt=\"Open In Colab\"/></a>"
      ]
    },
    {
      "cell_type": "markdown",
      "source": [
        "1. Carregue a base iris e a separe em treino e teste usando 40% dos exemplos para teste. Reduza a base de treino para ter apenas os 24 exemplos iniciais e a de teste para ter apenas os 16 exemplos iniciais. Considere que o valor 1.5 representa um elemento ausente. Substitua as ocorrências de valores ausentes pelo valor mais frequente nas bases de treino e de teste reduzidas."
      ],
      "metadata": {
        "id": "dHWaq4mRIZu4"
      }
    },
    {
      "cell_type": "code",
      "source": [
        "from sklearn import datasets\n",
        "from sklearn.model_selection import train_test_split\n",
        "\n",
        "ds = datasets.load_iris()\n",
        "\n",
        "X_train, X_test, y_train, y_test = train_test_split(ds.data, \n",
        "                    ds.target, test_size=0.4, random_state=0)\n",
        "\n",
        "X_train = X_train[slice(24)]\n",
        "X_test = X_test[slice(16)]\n",
        "\n",
        "# print(X_train)\n",
        "# print(X_test)"
      ],
      "metadata": {
        "id": "XDmHNAMHKL75"
      },
      "execution_count": 18,
      "outputs": []
    },
    {
      "cell_type": "code",
      "source": [
        "from sklearn.impute import SimpleImputer\n",
        "\n",
        "imp = SimpleImputer(missing_values=1.5, strategy=\"most_frequent\")\n",
        "imp2 = SimpleImputer(missing_values=1.5, strategy=\"most_frequent\")\n",
        "\n",
        "print(\"Train\")\n",
        "print(imp.fit_transform(X_train))\n",
        "print(\"Teste\")\n",
        "print(imp2.fit_transform(X_test))"
      ],
      "metadata": {
        "id": "x0i8ClW2On9o"
      },
      "execution_count": null,
      "outputs": []
    },
    {
      "cell_type": "markdown",
      "source": [
        "2. Utilize agora os mesmos valores mais frequentes usados na base de treino na base de teste do exercício 1."
      ],
      "metadata": {
        "id": "eIA2u5W8P-fS"
      }
    },
    {
      "cell_type": "code",
      "source": [
        "imp.fit(X_train)\n",
        "print(imp.transform(X_test))"
      ],
      "metadata": {
        "colab": {
          "base_uri": "https://localhost:8080/"
        },
        "id": "QdzKlN_1QCUL",
        "outputId": "6867db0f-46f2-4d12-fc06-3e0ce24fa780"
      },
      "execution_count": 22,
      "outputs": [
        {
          "output_type": "stream",
          "name": "stdout",
          "text": [
            "[[5.8 2.8 5.1 2.4]\n",
            " [6.  2.2 4.  1. ]\n",
            " [5.5 4.2 1.4 0.2]\n",
            " [7.3 2.9 6.3 1.8]\n",
            " [5.  3.4 4.2 0.2]\n",
            " [6.3 3.3 6.  2.5]\n",
            " [5.  3.5 1.3 0.3]\n",
            " [6.7 3.1 4.7 0.2]\n",
            " [6.8 2.8 4.8 1.4]\n",
            " [6.1 2.8 4.  1.3]\n",
            " [6.1 2.6 5.6 1.4]\n",
            " [6.4 3.2 4.5 0.2]\n",
            " [6.1 2.8 4.7 1.2]\n",
            " [6.5 2.8 4.6 0.2]\n",
            " [6.1 2.9 4.7 1.4]\n",
            " [4.9 3.6 1.4 0.1]]\n"
          ]
        }
      ]
    },
    {
      "cell_type": "markdown",
      "source": [
        "3. Padronize a base de treino do exercício 1 e utilize os mesmos fatores de normalização para\n",
        "padronizar a base de teste."
      ],
      "metadata": {
        "id": "gEsyg36EQkgk"
      }
    },
    {
      "cell_type": "code",
      "source": [
        "from sklearn import preprocessing\n",
        "\n",
        "scaler = preprocessing.StandardScaler().fit(X_train)\n",
        "X_train_scaler = scaler.transform(X_train)\n",
        "print('Train')\n",
        "print(X_train_scaler)\n",
        "\n",
        "X_test_scaler = scaler.transform(X_test)\n",
        "print('\\nTest')\n",
        "print(X_test_scaler)\n",
        "\n",
        "X_scaled = preprocessing.scale(X_train)\n",
        "print ('\\nMean: ', X_scaled.mean(axis=0))\n",
        "print ('Standard Deviation: ', X_scaled.std(axis=0))"
      ],
      "metadata": {
        "colab": {
          "base_uri": "https://localhost:8080/"
        },
        "id": "U6x3p_b6Qn9D",
        "outputId": "bc393bc8-a8dd-4aa5-c406-1a0c45581115"
      },
      "execution_count": 26,
      "outputs": [
        {
          "output_type": "stream",
          "name": "stdout",
          "text": [
            "Train\n",
            "[[ 0.33603962  0.76296356  0.52477983  0.64940905]\n",
            " [-1.15287438  0.08477373 -1.20624749 -1.2988181 ]\n",
            " [ 0.08788728 -0.81947938  0.88292342  1.0668863 ]\n",
            " [-0.16026505 -0.81947938  0.34570804  0.2319318 ]\n",
            " [-0.16026505 -0.36735282 -0.01243554  0.2319318 ]\n",
            " [-0.28434121 -1.27160593  0.22632685  0.2319318 ]\n",
            " [ 0.46011578 -0.14128955  0.58447043  0.37109089]\n",
            " [ 1.82495362  0.310837    1.42013879  0.92772721]\n",
            " [-0.53249355  1.44115338 -1.26593808 -1.2988181 ]\n",
            " [-1.77325521 -0.14128955 -1.50470047 -1.43797718]\n",
            " [ 0.83234428 -0.81947938  1.00230461  1.0668863 ]\n",
            " [-0.03618888 -0.14128955  0.34570804  0.09277272]\n",
            " [-0.40841738  0.76296356 -1.14655689 -1.2988181 ]\n",
            " [-0.03618888  3.02359632 -1.26593808 -1.02049994]\n",
            " [ 1.45272512  0.08477373  0.76354222  0.51024997]\n",
            " [-1.40102671  0.08477373 -1.26593808 -1.2988181 ]\n",
            " [ 0.21196345 -0.14128955  0.88292342  0.92772721]\n",
            " [-0.78064588 -1.27160593 -0.37057912 -0.04638636]\n",
            " [-1.40102671  0.76296356 -1.32562868 -1.15965902]\n",
            " [ 0.58419195 -1.94979576  0.52477983  0.51024997]\n",
            " [ 1.82495362  1.21509011  1.47982939  1.90184079]\n",
            " [-0.03618888 -0.36735282  0.34570804  0.2319318 ]\n",
            " [-1.15287438 -0.14128955 -1.32562868 -1.43797718]\n",
            " [ 1.70087745 -0.14128955  1.3604482   1.34520446]]\n",
            "\n",
            "Test\n",
            "[[ 0.08788728 -0.5934161   0.88292342  1.76268171]\n",
            " [ 0.33603962 -1.94979576  0.22632685 -0.18554544]\n",
            " [-0.28434121  2.57146976 -1.32562868 -1.2988181 ]\n",
            " [ 1.94902978 -0.36735282  1.59921059  0.92772721]\n",
            " [-0.90472205  0.76296356 -1.26593808 -1.2988181 ]\n",
            " [ 0.70826812  0.53690028  1.42013879  1.90184079]\n",
            " [-0.90472205  0.98902683 -1.38531928 -1.15965902]\n",
            " [ 1.20457278  0.08477373  0.64416103  0.51024997]\n",
            " [ 1.32864895 -0.5934161   0.70385163  0.37109089]\n",
            " [ 0.46011578 -0.5934161   0.22632685  0.2319318 ]\n",
            " [ 0.46011578 -1.04554265  1.18137641  0.37109089]\n",
            " [ 0.83234428  0.310837    0.52477983  0.51024997]\n",
            " [ 0.46011578 -0.5934161   0.64416103  0.09277272]\n",
            " [ 0.95642045 -0.5934161   0.58447043  0.51024997]\n",
            " [ 0.46011578 -0.36735282  0.64416103  0.37109089]\n",
            " [-1.02879821  1.21509011 -1.32562868 -1.43797718]]\n",
            "\n",
            "Mean:  [-4.34837351e-16  1.17961196e-16 -4.16333634e-16 -2.59052039e-16]\n",
            "Standard Deviation:  [1. 1. 1. 1.]\n"
          ]
        }
      ]
    },
    {
      "cell_type": "markdown",
      "source": [
        "4. Discretize a base Z_Train usando a estratégia de igual frequência nos intervalos e utilize os mesmos intervalos para discretizar a base Z_Test. Repita depois usando a estratégia de igual tamanho dos intervalos. Atenção: crie novas bases para não alterar a definição original de Z_Train e Z_Test."
      ],
      "metadata": {
        "id": "PhfkusQwV40y"
      }
    },
    {
      "cell_type": "code",
      "source": [
        "est = preprocessing.KBinsDiscretizer(n_bins=[6, 3, 4, 2], \n",
        "                                     encode='ordinal').fit(X_train)\n",
        "X_bin = est.transform(X_train)\n",
        "print(X_bin)\n",
        "\n",
        "X_bin_test = est.transform(X_test)\n",
        "print(X_bin_test)"
      ],
      "metadata": {
        "colab": {
          "base_uri": "https://localhost:8080/"
        },
        "id": "VcIUVfHvV-Mk",
        "outputId": "8b2cc6fa-fbc9-4b0c-8542-c89e579dd2c6"
      },
      "execution_count": 32,
      "outputs": [
        {
          "output_type": "stream",
          "name": "stdout",
          "text": [
            "[[4. 2. 2. 1.]\n",
            " [1. 2. 1. 0.]\n",
            " [3. 0. 3. 1.]\n",
            " [2. 0. 2. 1.]\n",
            " [2. 0. 1. 1.]\n",
            " [2. 0. 1. 1.]\n",
            " [4. 1. 2. 1.]\n",
            " [5. 2. 3. 1.]\n",
            " [1. 2. 0. 0.]\n",
            " [0. 1. 0. 0.]\n",
            " [4. 0. 3. 1.]\n",
            " [3. 1. 2. 0.]\n",
            " [1. 2. 1. 0.]\n",
            " [3. 2. 0. 0.]\n",
            " [5. 2. 2. 1.]\n",
            " [0. 2. 0. 0.]\n",
            " [3. 1. 3. 1.]\n",
            " [1. 0. 1. 0.]\n",
            " [0. 2. 0. 0.]\n",
            " [4. 0. 2. 1.]\n",
            " [5. 2. 3. 1.]\n",
            " [3. 0. 2. 1.]\n",
            " [1. 1. 0. 0.]\n",
            " [5. 1. 3. 1.]]\n",
            "[[3. 0. 3. 1.]\n",
            " [4. 0. 1. 0.]\n",
            " [2. 2. 0. 0.]\n",
            " [5. 0. 3. 1.]\n",
            " [1. 2. 0. 0.]\n",
            " [4. 2. 3. 1.]\n",
            " [1. 2. 0. 0.]\n",
            " [5. 2. 2. 1.]\n",
            " [5. 0. 2. 1.]\n",
            " [4. 0. 1. 1.]\n",
            " [4. 0. 3. 1.]\n",
            " [4. 2. 2. 1.]\n",
            " [4. 0. 2. 0.]\n",
            " [5. 0. 2. 1.]\n",
            " [4. 0. 2. 1.]\n",
            " [1. 2. 0. 0.]]\n"
          ]
        }
      ]
    },
    {
      "cell_type": "code",
      "source": [
        "est = preprocessing.KBinsDiscretizer(n_bins=[6, 3, 4, 2], \n",
        "                    encode='ordinal', strategy='uniform').fit(X_train)\n",
        "X_bin = est.transform(X_train)\n",
        "print(X_bin)"
      ],
      "metadata": {
        "colab": {
          "base_uri": "https://localhost:8080/"
        },
        "id": "igLi5P_qcC_n",
        "outputId": "c3c6b44d-01c0-45ed-81f5-6f4e38ab8676"
      },
      "execution_count": 33,
      "outputs": [
        {
          "output_type": "stream",
          "name": "stdout",
          "text": [
            "[[3. 1. 2. 1.]\n",
            " [1. 1. 0. 0.]\n",
            " [3. 0. 3. 1.]\n",
            " [2. 0. 2. 1.]\n",
            " [2. 0. 2. 1.]\n",
            " [2. 0. 2. 1.]\n",
            " [3. 1. 2. 1.]\n",
            " [5. 1. 3. 1.]\n",
            " [2. 2. 0. 0.]\n",
            " [0. 1. 0. 0.]\n",
            " [4. 0. 3. 1.]\n",
            " [2. 1. 2. 0.]\n",
            " [2. 1. 0. 0.]\n",
            " [2. 2. 0. 0.]\n",
            " [5. 1. 3. 1.]\n",
            " [0. 1. 0. 0.]\n",
            " [3. 1. 3. 1.]\n",
            " [1. 0. 1. 0.]\n",
            " [0. 1. 0. 0.]\n",
            " [3. 0. 2. 1.]\n",
            " [5. 1. 3. 1.]\n",
            " [2. 0. 2. 1.]\n",
            " [1. 1. 0. 0.]\n",
            " [5. 1. 3. 1.]]\n"
          ]
        }
      ]
    },
    {
      "cell_type": "markdown",
      "source": [
        "5. Leia a base de dados breast cancer e execute 3 rodadas de validação cruzada aninhada \n",
        "estratificada, porém use padronização em todas as características da base. Use o classificador KNN com k = {1, 3, 5}. Apresente a acurácia obtida em cada fold de teste, assim como a média da acurácia, desvio padrão e intervalo de confiança."
      ],
      "metadata": {
        "id": "7h2aF5fLcnin"
      }
    },
    {
      "cell_type": "code",
      "source": [],
      "metadata": {
        "id": "4OiWJdIDgMCt"
      },
      "execution_count": null,
      "outputs": []
    },
    {
      "cell_type": "code",
      "source": [
        "import numpy as np\n",
        "from sklearn import datasets\n",
        "from scipy import stats\n",
        "from sklearn.model_selection import cross_val_score, RepeatedStratifiedKFold\n",
        "from sklearn.neighbors import KNeighborsClassifier\n",
        "from sklearn.preprocessing import StandardScaler\n",
        "from sklearn.pipeline import Pipeline\n",
        "\n",
        "bc = datasets.load_breast_cancer()\n",
        "\n",
        "X_train, X_test, y_train, y_test = train_test_split(bc.data, \n",
        "                    bc.target, test_size=0.4, random_state=0)\n",
        "\n",
        "\n"
      ],
      "metadata": {
        "id": "V15AGJAOctOn"
      },
      "execution_count": null,
      "outputs": []
    }
  ]
}