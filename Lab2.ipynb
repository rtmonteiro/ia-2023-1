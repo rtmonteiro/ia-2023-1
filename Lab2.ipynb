{
 "cells": [
  {
   "cell_type": "markdown",
   "id": "f4f47938",
   "metadata": {},
   "source": [
    "1. Use numpy para criar uma matriz (dataset) composta por valores numéricos aleatórios com 200\n",
    "linhas (instâncias) e 12 colunas (características). Apresente o dataset."
   ]
  },
  {
   "cell_type": "code",
   "execution_count": 18,
   "id": "3fb92048",
   "metadata": {},
   "outputs": [
    {
     "name": "stdout",
     "output_type": "stream",
     "text": [
      "[[0.51182162 0.9504637  0.14415961 ... 0.02755911 0.75351311 0.53814331]\n",
      " [0.32973172 0.7884287  0.30319483 ... 0.28040876 0.48519097 0.9807372 ]\n",
      " [0.96165719 0.72478994 0.54122686 ... 0.77668311 0.6130033  0.9172977 ]\n",
      " ...\n",
      " [0.1785577  0.98647651 0.58026699 ... 0.01018446 0.55550049 0.51162454]\n",
      " [0.68138926 0.02791955 0.88865767 ... 0.89054962 0.46979694 0.04818883]\n",
      " [0.12172799 0.75377969 0.32565047 ... 0.78773346 0.77704291 0.30596068]] (200, 12)\n"
     ]
    }
   ],
   "source": [
    "import numpy as np\n",
    "\n",
    "rg = np.random.default_rng(1)\n",
    "a = rg.random((200, 12))\n",
    "\n",
    "print(a, a.shape)"
   ]
  },
  {
   "cell_type": "markdown",
   "id": "b5b36f4e",
   "metadata": {},
   "source": [
    "2. Converta o dataset do exercício 1 em um dataframe de pandas. As instâncias devem ser numeradas de 0 a 199 e as características nomeadas com letras de \"a\" a \"l\" (inclua \"k\" como coluna). Apresente o dataset no formato dataframe."
   ]
  },
  {
   "cell_type": "code",
   "execution_count": 40,
   "id": "e19d325f",
   "metadata": {},
   "outputs": [
    {
     "data": {
      "text/html": [
       "<div>\n",
       "<style scoped>\n",
       "    .dataframe tbody tr th:only-of-type {\n",
       "        vertical-align: middle;\n",
       "    }\n",
       "\n",
       "    .dataframe tbody tr th {\n",
       "        vertical-align: top;\n",
       "    }\n",
       "\n",
       "    .dataframe thead th {\n",
       "        text-align: right;\n",
       "    }\n",
       "</style>\n",
       "<table border=\"1\" class=\"dataframe\">\n",
       "  <thead>\n",
       "    <tr style=\"text-align: right;\">\n",
       "      <th></th>\n",
       "      <th>a</th>\n",
       "      <th>b</th>\n",
       "      <th>c</th>\n",
       "      <th>d</th>\n",
       "      <th>e</th>\n",
       "      <th>f</th>\n",
       "      <th>g</th>\n",
       "      <th>h</th>\n",
       "      <th>i</th>\n",
       "      <th>j</th>\n",
       "      <th>k</th>\n",
       "      <th>l</th>\n",
       "    </tr>\n",
       "  </thead>\n",
       "  <tbody>\n",
       "    <tr>\n",
       "      <th>0</th>\n",
       "      <td>0.511822</td>\n",
       "      <td>0.950464</td>\n",
       "      <td>0.144160</td>\n",
       "      <td>0.948649</td>\n",
       "      <td>0.311831</td>\n",
       "      <td>0.423326</td>\n",
       "      <td>0.827703</td>\n",
       "      <td>0.409199</td>\n",
       "      <td>0.549594</td>\n",
       "      <td>0.027559</td>\n",
       "      <td>0.753513</td>\n",
       "      <td>0.538143</td>\n",
       "    </tr>\n",
       "    <tr>\n",
       "      <th>1</th>\n",
       "      <td>0.329732</td>\n",
       "      <td>0.788429</td>\n",
       "      <td>0.303195</td>\n",
       "      <td>0.453498</td>\n",
       "      <td>0.134042</td>\n",
       "      <td>0.403113</td>\n",
       "      <td>0.203455</td>\n",
       "      <td>0.262313</td>\n",
       "      <td>0.750365</td>\n",
       "      <td>0.280409</td>\n",
       "      <td>0.485191</td>\n",
       "      <td>0.980737</td>\n",
       "    </tr>\n",
       "    <tr>\n",
       "      <th>2</th>\n",
       "      <td>0.961657</td>\n",
       "      <td>0.724790</td>\n",
       "      <td>0.541227</td>\n",
       "      <td>0.276891</td>\n",
       "      <td>0.160652</td>\n",
       "      <td>0.969925</td>\n",
       "      <td>0.516069</td>\n",
       "      <td>0.115866</td>\n",
       "      <td>0.623490</td>\n",
       "      <td>0.776683</td>\n",
       "      <td>0.613003</td>\n",
       "      <td>0.917298</td>\n",
       "    </tr>\n",
       "    <tr>\n",
       "      <th>3</th>\n",
       "      <td>0.039593</td>\n",
       "      <td>0.528589</td>\n",
       "      <td>0.459336</td>\n",
       "      <td>0.062350</td>\n",
       "      <td>0.641328</td>\n",
       "      <td>0.852633</td>\n",
       "      <td>0.592941</td>\n",
       "      <td>0.260097</td>\n",
       "      <td>0.839882</td>\n",
       "      <td>0.509496</td>\n",
       "      <td>0.510889</td>\n",
       "      <td>0.753030</td>\n",
       "    </tr>\n",
       "    <tr>\n",
       "      <th>4</th>\n",
       "      <td>0.147922</td>\n",
       "      <td>0.819627</td>\n",
       "      <td>0.683287</td>\n",
       "      <td>0.787097</td>\n",
       "      <td>0.191616</td>\n",
       "      <td>0.802364</td>\n",
       "      <td>0.191324</td>\n",
       "      <td>0.081553</td>\n",
       "      <td>0.855227</td>\n",
       "      <td>0.861283</td>\n",
       "      <td>0.876537</td>\n",
       "      <td>0.471910</td>\n",
       "    </tr>\n",
       "    <tr>\n",
       "      <th>...</th>\n",
       "      <td>...</td>\n",
       "      <td>...</td>\n",
       "      <td>...</td>\n",
       "      <td>...</td>\n",
       "      <td>...</td>\n",
       "      <td>...</td>\n",
       "      <td>...</td>\n",
       "      <td>...</td>\n",
       "      <td>...</td>\n",
       "      <td>...</td>\n",
       "      <td>...</td>\n",
       "      <td>...</td>\n",
       "    </tr>\n",
       "    <tr>\n",
       "      <th>195</th>\n",
       "      <td>0.547671</td>\n",
       "      <td>0.089411</td>\n",
       "      <td>0.406914</td>\n",
       "      <td>0.681922</td>\n",
       "      <td>0.836398</td>\n",
       "      <td>0.516014</td>\n",
       "      <td>0.949979</td>\n",
       "      <td>0.735502</td>\n",
       "      <td>0.789909</td>\n",
       "      <td>0.135136</td>\n",
       "      <td>0.505447</td>\n",
       "      <td>0.035516</td>\n",
       "    </tr>\n",
       "    <tr>\n",
       "      <th>196</th>\n",
       "      <td>0.668606</td>\n",
       "      <td>0.325133</td>\n",
       "      <td>0.879803</td>\n",
       "      <td>0.130790</td>\n",
       "      <td>0.074429</td>\n",
       "      <td>0.395472</td>\n",
       "      <td>0.158236</td>\n",
       "      <td>0.549943</td>\n",
       "      <td>0.433584</td>\n",
       "      <td>0.023321</td>\n",
       "      <td>0.243428</td>\n",
       "      <td>0.152947</td>\n",
       "    </tr>\n",
       "    <tr>\n",
       "      <th>197</th>\n",
       "      <td>0.178558</td>\n",
       "      <td>0.986477</td>\n",
       "      <td>0.580267</td>\n",
       "      <td>0.778649</td>\n",
       "      <td>0.385326</td>\n",
       "      <td>0.180887</td>\n",
       "      <td>0.335664</td>\n",
       "      <td>0.695822</td>\n",
       "      <td>0.412755</td>\n",
       "      <td>0.010184</td>\n",
       "      <td>0.555500</td>\n",
       "      <td>0.511625</td>\n",
       "    </tr>\n",
       "    <tr>\n",
       "      <th>198</th>\n",
       "      <td>0.681389</td>\n",
       "      <td>0.027920</td>\n",
       "      <td>0.888658</td>\n",
       "      <td>0.461776</td>\n",
       "      <td>0.360977</td>\n",
       "      <td>0.289008</td>\n",
       "      <td>0.849778</td>\n",
       "      <td>0.265022</td>\n",
       "      <td>0.300061</td>\n",
       "      <td>0.890550</td>\n",
       "      <td>0.469797</td>\n",
       "      <td>0.048189</td>\n",
       "    </tr>\n",
       "    <tr>\n",
       "      <th>199</th>\n",
       "      <td>0.121728</td>\n",
       "      <td>0.753780</td>\n",
       "      <td>0.325650</td>\n",
       "      <td>0.304505</td>\n",
       "      <td>0.295251</td>\n",
       "      <td>0.972721</td>\n",
       "      <td>0.485780</td>\n",
       "      <td>0.895879</td>\n",
       "      <td>0.794521</td>\n",
       "      <td>0.787733</td>\n",
       "      <td>0.777043</td>\n",
       "      <td>0.305961</td>\n",
       "    </tr>\n",
       "  </tbody>\n",
       "</table>\n",
       "<p>200 rows × 12 columns</p>\n",
       "</div>"
      ],
      "text/plain": [
       "            a         b         c         d         e         f         g  \\\n",
       "0    0.511822  0.950464  0.144160  0.948649  0.311831  0.423326  0.827703   \n",
       "1    0.329732  0.788429  0.303195  0.453498  0.134042  0.403113  0.203455   \n",
       "2    0.961657  0.724790  0.541227  0.276891  0.160652  0.969925  0.516069   \n",
       "3    0.039593  0.528589  0.459336  0.062350  0.641328  0.852633  0.592941   \n",
       "4    0.147922  0.819627  0.683287  0.787097  0.191616  0.802364  0.191324   \n",
       "..        ...       ...       ...       ...       ...       ...       ...   \n",
       "195  0.547671  0.089411  0.406914  0.681922  0.836398  0.516014  0.949979   \n",
       "196  0.668606  0.325133  0.879803  0.130790  0.074429  0.395472  0.158236   \n",
       "197  0.178558  0.986477  0.580267  0.778649  0.385326  0.180887  0.335664   \n",
       "198  0.681389  0.027920  0.888658  0.461776  0.360977  0.289008  0.849778   \n",
       "199  0.121728  0.753780  0.325650  0.304505  0.295251  0.972721  0.485780   \n",
       "\n",
       "            h         i         j         k         l  \n",
       "0    0.409199  0.549594  0.027559  0.753513  0.538143  \n",
       "1    0.262313  0.750365  0.280409  0.485191  0.980737  \n",
       "2    0.115866  0.623490  0.776683  0.613003  0.917298  \n",
       "3    0.260097  0.839882  0.509496  0.510889  0.753030  \n",
       "4    0.081553  0.855227  0.861283  0.876537  0.471910  \n",
       "..        ...       ...       ...       ...       ...  \n",
       "195  0.735502  0.789909  0.135136  0.505447  0.035516  \n",
       "196  0.549943  0.433584  0.023321  0.243428  0.152947  \n",
       "197  0.695822  0.412755  0.010184  0.555500  0.511625  \n",
       "198  0.265022  0.300061  0.890550  0.469797  0.048189  \n",
       "199  0.895879  0.794521  0.787733  0.777043  0.305961  \n",
       "\n",
       "[200 rows x 12 columns]"
      ]
     },
     "execution_count": 40,
     "metadata": {},
     "output_type": "execute_result"
    }
   ],
   "source": [
    "import pandas as pd\n",
    "\n",
    "df_columns = [\"a\", \"b\", \"c\", \"d\",\"e\", \"f\", \"g\", \"h\", \"i\", \"j\",\"k\", \"l\"]\n",
    "\n",
    "b = pd.DataFrame(a, columns=df_columns)\n",
    "b"
   ]
  },
  {
   "cell_type": "markdown",
   "id": "3344d7fe",
   "metadata": {},
   "source": [
    "3. Mostre apenas as instâncias ímpares e as características \"b\", \"e\", \"f\" do dataset criado no exercício 2 ordenados crescentemente pelos valores da característica \"f\"."
   ]
  },
  {
   "cell_type": "code",
   "execution_count": 70,
   "id": "d4d2767a",
   "metadata": {},
   "outputs": [
    {
     "data": {
      "text/html": [
       "<div>\n",
       "<style scoped>\n",
       "    .dataframe tbody tr th:only-of-type {\n",
       "        vertical-align: middle;\n",
       "    }\n",
       "\n",
       "    .dataframe tbody tr th {\n",
       "        vertical-align: top;\n",
       "    }\n",
       "\n",
       "    .dataframe thead th {\n",
       "        text-align: right;\n",
       "    }\n",
       "</style>\n",
       "<table border=\"1\" class=\"dataframe\">\n",
       "  <thead>\n",
       "    <tr style=\"text-align: right;\">\n",
       "      <th></th>\n",
       "      <th>b</th>\n",
       "      <th>e</th>\n",
       "      <th>f</th>\n",
       "    </tr>\n",
       "  </thead>\n",
       "  <tbody>\n",
       "    <tr>\n",
       "      <th>111</th>\n",
       "      <td>0.389452</td>\n",
       "      <td>0.468017</td>\n",
       "      <td>0.002246</td>\n",
       "    </tr>\n",
       "    <tr>\n",
       "      <th>129</th>\n",
       "      <td>0.233646</td>\n",
       "      <td>0.224815</td>\n",
       "      <td>0.004826</td>\n",
       "    </tr>\n",
       "    <tr>\n",
       "      <th>143</th>\n",
       "      <td>0.810013</td>\n",
       "      <td>0.528465</td>\n",
       "      <td>0.009361</td>\n",
       "    </tr>\n",
       "    <tr>\n",
       "      <th>71</th>\n",
       "      <td>0.647960</td>\n",
       "      <td>0.367520</td>\n",
       "      <td>0.015983</td>\n",
       "    </tr>\n",
       "    <tr>\n",
       "      <th>51</th>\n",
       "      <td>0.921677</td>\n",
       "      <td>0.502300</td>\n",
       "      <td>0.037615</td>\n",
       "    </tr>\n",
       "    <tr>\n",
       "      <th>...</th>\n",
       "      <td>...</td>\n",
       "      <td>...</td>\n",
       "      <td>...</td>\n",
       "    </tr>\n",
       "    <tr>\n",
       "      <th>199</th>\n",
       "      <td>0.753780</td>\n",
       "      <td>0.295251</td>\n",
       "      <td>0.972721</td>\n",
       "    </tr>\n",
       "    <tr>\n",
       "      <th>13</th>\n",
       "      <td>0.392492</td>\n",
       "      <td>0.390075</td>\n",
       "      <td>0.974693</td>\n",
       "    </tr>\n",
       "    <tr>\n",
       "      <th>99</th>\n",
       "      <td>0.652766</td>\n",
       "      <td>0.532827</td>\n",
       "      <td>0.974758</td>\n",
       "    </tr>\n",
       "    <tr>\n",
       "      <th>183</th>\n",
       "      <td>0.968926</td>\n",
       "      <td>0.508405</td>\n",
       "      <td>0.978762</td>\n",
       "    </tr>\n",
       "    <tr>\n",
       "      <th>53</th>\n",
       "      <td>0.497234</td>\n",
       "      <td>0.791008</td>\n",
       "      <td>0.998559</td>\n",
       "    </tr>\n",
       "  </tbody>\n",
       "</table>\n",
       "<p>100 rows × 3 columns</p>\n",
       "</div>"
      ],
      "text/plain": [
       "            b         e         f\n",
       "111  0.389452  0.468017  0.002246\n",
       "129  0.233646  0.224815  0.004826\n",
       "143  0.810013  0.528465  0.009361\n",
       "71   0.647960  0.367520  0.015983\n",
       "51   0.921677  0.502300  0.037615\n",
       "..        ...       ...       ...\n",
       "199  0.753780  0.295251  0.972721\n",
       "13   0.392492  0.390075  0.974693\n",
       "99   0.652766  0.532827  0.974758\n",
       "183  0.968926  0.508405  0.978762\n",
       "53   0.497234  0.791008  0.998559\n",
       "\n",
       "[100 rows x 3 columns]"
      ]
     },
     "execution_count": 70,
     "metadata": {},
     "output_type": "execute_result"
    }
   ],
   "source": [
    "index_arr = np.arange(0,200)\n",
    "index_arr = index_arr[index_arr %2 != 0]\n",
    "# index_arr\n",
    "\n",
    "c = b[['b', 'e', 'f']].filter(items=index_arr, axis=0).sort_values(by=['f'])\n",
    "c"
   ]
  },
  {
   "cell_type": "markdown",
   "id": "285f005d",
   "metadata": {},
   "source": [
    "4. Apresente a soma dos valores, os valores mínimos e máximos, a média e o desvio padrão de cada coluna do dataset do exercício 3. Apresente também o intervalo de confiança de cada característica."
   ]
  },
  {
   "cell_type": "code",
   "execution_count": 74,
   "id": "55111dfd",
   "metadata": {},
   "outputs": [
    {
     "name": "stdout",
     "output_type": "stream",
     "text": [
      "b    47.385304\n",
      "e    51.849925\n",
      "f    49.850088\n",
      "dtype: float64\n",
      "b    0.007092\n",
      "e    0.016827\n",
      "f    0.002246\n",
      "dtype: float64\n",
      "b    0.993121\n",
      "e    0.967083\n",
      "f    0.998559\n",
      "dtype: float64\n",
      "b    0.473853\n",
      "e    0.518499\n",
      "f    0.498501\n",
      "dtype: float64\n",
      "b    0.293017\n",
      "e    0.269255\n",
      "f    0.313294\n",
      "dtype: float64\n",
      "(array([0.41642268, 0.4657263 , 0.43709635]), array([0.5312834 , 0.57127219, 0.55990541]))\n"
     ]
    }
   ],
   "source": [
    "from scipy import stats\n",
    "\n",
    "print( c.sum())\n",
    "print( c.min())\n",
    "print( c.max())\n",
    "print( c.mean())\n",
    "print( c.std()) \n",
    "print(stats.norm.interval(0.95, loc=c.mean(), scale=c.std()/np.sqrt(len(c))))"
   ]
  },
  {
   "cell_type": "markdown",
   "id": "b3801e7d",
   "metadata": {},
   "source": [
    "5. Faça um histograma com 7 faixas equidistantes de valores para a característica sepal_width da base iris."
   ]
  },
  {
   "cell_type": "code",
   "execution_count": 78,
   "id": "96b89988",
   "metadata": {},
   "outputs": [
    {
     "data": {
      "image/png": "[encoded data removed]",
      "text/plain": [
       "<Figure size 640x480 with 1 Axes>"
      ]
     },
     "metadata": {},
     "output_type": "display_data"
    }
   ],
   "source": [
    "import matplotlib.pyplot as plt\n",
    "import seaborn as sns\n",
    "\n",
    "iris = sns.load_dataset(\"iris\")\n",
    "\n",
    "iris_sepal_width = iris[['sepal_width']]\n",
    "\n",
    "plt.hist(iris_sepal_width, 7)\n",
    "plt.show()"
   ]
  },
  {
   "cell_type": "markdown",
   "id": "0c77d049",
   "metadata": {},
   "source": [
    "6. Obtenha média, desvio padrão e intervalo de confiança de cada característica da base iris. Contraste os resultados com os obtidos fazendo um gráfico de barras com intervalo de confiança."
   ]
  },
  {
   "cell_type": "code",
   "execution_count": 88,
   "id": "3512368d",
   "metadata": {},
   "outputs": [
    {
     "data": {
      "text/html": [
       "<div>\n",
       "<style scoped>\n",
       "    .dataframe tbody tr th:only-of-type {\n",
       "        vertical-align: middle;\n",
       "    }\n",
       "\n",
       "    .dataframe tbody tr th {\n",
       "        vertical-align: top;\n",
       "    }\n",
       "\n",
       "    .dataframe thead th {\n",
       "        text-align: right;\n",
       "    }\n",
       "</style>\n",
       "<table border=\"1\" class=\"dataframe\">\n",
       "  <thead>\n",
       "    <tr style=\"text-align: right;\">\n",
       "      <th></th>\n",
       "      <th>sepal_length</th>\n",
       "      <th>sepal_width</th>\n",
       "      <th>petal_length</th>\n",
       "      <th>petal_width</th>\n",
       "      <th>species</th>\n",
       "    </tr>\n",
       "  </thead>\n",
       "  <tbody>\n",
       "    <tr>\n",
       "      <th>0</th>\n",
       "      <td>5.1</td>\n",
       "      <td>3.5</td>\n",
       "      <td>1.4</td>\n",
       "      <td>0.2</td>\n",
       "      <td>setosa</td>\n",
       "    </tr>\n",
       "    <tr>\n",
       "      <th>1</th>\n",
       "      <td>4.9</td>\n",
       "      <td>3.0</td>\n",
       "      <td>1.4</td>\n",
       "      <td>0.2</td>\n",
       "      <td>setosa</td>\n",
       "    </tr>\n",
       "    <tr>\n",
       "      <th>2</th>\n",
       "      <td>4.7</td>\n",
       "      <td>3.2</td>\n",
       "      <td>1.3</td>\n",
       "      <td>0.2</td>\n",
       "      <td>setosa</td>\n",
       "    </tr>\n",
       "    <tr>\n",
       "      <th>3</th>\n",
       "      <td>4.6</td>\n",
       "      <td>3.1</td>\n",
       "      <td>1.5</td>\n",
       "      <td>0.2</td>\n",
       "      <td>setosa</td>\n",
       "    </tr>\n",
       "    <tr>\n",
       "      <th>4</th>\n",
       "      <td>5.0</td>\n",
       "      <td>3.6</td>\n",
       "      <td>1.4</td>\n",
       "      <td>0.2</td>\n",
       "      <td>setosa</td>\n",
       "    </tr>\n",
       "    <tr>\n",
       "      <th>...</th>\n",
       "      <td>...</td>\n",
       "      <td>...</td>\n",
       "      <td>...</td>\n",
       "      <td>...</td>\n",
       "      <td>...</td>\n",
       "    </tr>\n",
       "    <tr>\n",
       "      <th>145</th>\n",
       "      <td>6.7</td>\n",
       "      <td>3.0</td>\n",
       "      <td>5.2</td>\n",
       "      <td>2.3</td>\n",
       "      <td>virginica</td>\n",
       "    </tr>\n",
       "    <tr>\n",
       "      <th>146</th>\n",
       "      <td>6.3</td>\n",
       "      <td>2.5</td>\n",
       "      <td>5.0</td>\n",
       "      <td>1.9</td>\n",
       "      <td>virginica</td>\n",
       "    </tr>\n",
       "    <tr>\n",
       "      <th>147</th>\n",
       "      <td>6.5</td>\n",
       "      <td>3.0</td>\n",
       "      <td>5.2</td>\n",
       "      <td>2.0</td>\n",
       "      <td>virginica</td>\n",
       "    </tr>\n",
       "    <tr>\n",
       "      <th>148</th>\n",
       "      <td>6.2</td>\n",
       "      <td>3.4</td>\n",
       "      <td>5.4</td>\n",
       "      <td>2.3</td>\n",
       "      <td>virginica</td>\n",
       "    </tr>\n",
       "    <tr>\n",
       "      <th>149</th>\n",
       "      <td>5.9</td>\n",
       "      <td>3.0</td>\n",
       "      <td>5.1</td>\n",
       "      <td>1.8</td>\n",
       "      <td>virginica</td>\n",
       "    </tr>\n",
       "  </tbody>\n",
       "</table>\n",
       "<p>150 rows × 5 columns</p>\n",
       "</div>"
      ],
      "text/plain": [
       "     sepal_length  sepal_width  petal_length  petal_width    species\n",
       "0             5.1          3.5           1.4          0.2     setosa\n",
       "1             4.9          3.0           1.4          0.2     setosa\n",
       "2             4.7          3.2           1.3          0.2     setosa\n",
       "3             4.6          3.1           1.5          0.2     setosa\n",
       "4             5.0          3.6           1.4          0.2     setosa\n",
       "..            ...          ...           ...          ...        ...\n",
       "145           6.7          3.0           5.2          2.3  virginica\n",
       "146           6.3          2.5           5.0          1.9  virginica\n",
       "147           6.5          3.0           5.2          2.0  virginica\n",
       "148           6.2          3.4           5.4          2.3  virginica\n",
       "149           5.9          3.0           5.1          1.8  virginica\n",
       "\n",
       "[150 rows x 5 columns]"
      ]
     },
     "execution_count": 88,
     "metadata": {},
     "output_type": "execute_result"
    }
   ],
   "source": [
    "iris"
   ]
  },
  {
   "cell_type": "code",
   "execution_count": 89,
   "id": "5158c51d",
   "metadata": {},
   "outputs": [
    {
     "data": {
      "text/plain": [
       "<Axes: >"
      ]
     },
     "execution_count": 89,
     "metadata": {},
     "output_type": "execute_result"
    },
    {
     "data": {
      "image/png": "[encoded data removed]",
      "text/plain": [
       "<Figure size 640x480 with 1 Axes>"
      ]
     },
     "metadata": {},
     "output_type": "display_data"
    }
   ],
   "source": [
    "sns.barplot(data=iris)"
   ]
  },
  {
   "cell_type": "markdown",
   "id": "55ef0c12",
   "metadata": {},
   "source": [
    "7. Faça um gráfico de dispersão apresentando os dados das caraterísticas sepal_length e sepal_width diferenciando os exemplos de cada classe."
   ]
  },
  {
   "cell_type": "markdown",
   "id": "f4c6a87b",
   "metadata": {},
   "source": [
    "8. Faça um gráfico de caixas com dados de cada característica (coluna) do dataframe do exercício 2."
   ]
  },
  {
   "cell_type": "code",
   "execution_count": 94,
   "id": "325ccc63",
   "metadata": {},
   "outputs": [
    {
     "data": {
      "text/plain": [
       "<Axes: >"
      ]
     },
     "execution_count": 94,
     "metadata": {},
     "output_type": "execute_result"
    },
    {
     "data": {
      "image/png": "[encoded data removed]",
      "text/plain": [
       "<Figure size 640x480 with 1 Axes>"
      ]
     },
     "metadata": {},
     "output_type": "display_data"
    }
   ],
   "source": [
    "sns.boxplot(data=b, showmeans=True)"
   ]
  },
  {
   "cell_type": "markdown",
   "id": "4e60b869",
   "metadata": {},
   "source": [
    "9. Apresente um gráfico com a projeção TSNE criado no exercício 1"
   ]
  },
  {
   "cell_type": "code",
   "execution_count": 97,
   "id": "e88a4f2c",
   "metadata": {},
   "outputs": [
    {
     "ename": "ModuleNotFoundError",
     "evalue": "No module named 'sklearn'",
     "output_type": "error",
     "traceback": [
      "\u001b[0;31m---------------------------------------------------------------------------\u001b[0m",
      "\u001b[0;31mModuleNotFoundError\u001b[0m                       Traceback (most recent call last)",
      "Cell \u001b[0;32mIn[97], line 1\u001b[0m\n\u001b[0;32m----> 1\u001b[0m \u001b[38;5;28;01mfrom\u001b[39;00m \u001b[38;5;21;01msklearn\u001b[39;00m\u001b[38;5;21;01m.\u001b[39;00m\u001b[38;5;21;01mmanifold\u001b[39;00m \u001b[38;5;28;01mimport\u001b[39;00m TSNE\n\u001b[1;32m      3\u001b[0m tnse \u001b[38;5;241m=\u001b[39m TSNE(n_components\u001b[38;5;241m=\u001b[39m\u001b[38;5;241m2\u001b[39m)\n\u001b[1;32m      4\u001b[0m tnse_results \u001b[38;5;241m=\u001b[39m tnse\u001b[38;5;241m.\u001b[39mfit_transform(b)\n",
      "\u001b[0;31mModuleNotFoundError\u001b[0m: No module named 'sklearn'"
     ]
    }
   ],
   "source": [
    "from sklearn.manifold import TSNE\n",
    "\n",
    "tnse = TSNE(n_components=2)\n",
    "tnse_results = tnse.fit_transform(b)"
   ]
  }
 ],
 "metadata": {
  "kernelspec": {
   "display_name": "Python 3 (ipykernel)",
   "language": "python",
   "name": "python3"
  },
  "language_info": {
   "codemirror_mode": {
    "name": "ipython",
    "version": 3
   },
   "file_extension": ".py",
   "mimetype": "text/x-python",
   "name": "python",
   "nbconvert_exporter": "python",
   "pygments_lexer": "ipython3",
   "version": "3.10.6"
  }
 },
 "nbformat": 4,
 "nbformat_minor": 5
}
