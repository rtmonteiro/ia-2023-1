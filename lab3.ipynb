{
 "cells": [
  {
   "attachments": {},
   "cell_type": "markdown",
   "metadata": {},
   "source": [
    "1. Carregue o dataset breast cancer disponível no sklearn e obtenha a distribuição de classes deste dataset"
   ]
  },
  {
   "cell_type": "code",
   "execution_count": 7,
   "metadata": {},
   "outputs": [],
   "source": [
    "from sklearn import datasets\n",
    "\n",
    "bc = datasets.load_breast_cancer()"
   ]
  },
  {
   "cell_type": "code",
   "execution_count": 2,
   "metadata": {},
   "outputs": [],
   "source": [
    "import numpy as np\n",
    "def classDistribution (classData):\n",
    "\n",
    "    tam = len(classData)\n",
    "    labels = np.unique(classData)\n",
    "    \n",
    "    classDistr = []\n",
    "    for class_value in labels:   \n",
    "        cvc = len([1 for i in classData if i == class_value])\n",
    "        classDistr += [(class_value, cvc/tam)]\n",
    "\n",
    "    return classDistr"
   ]
  },
  {
   "cell_type": "code",
   "execution_count": 10,
   "metadata": {},
   "outputs": [
    {
     "data": {
      "text/plain": [
       "[(0, 0.37258347978910367), (1, 0.6274165202108963)]"
      ]
     },
     "execution_count": 10,
     "metadata": {},
     "output_type": "execute_result"
    }
   ],
   "source": [
    "classDistribution(bc.target)"
   ]
  },
  {
   "attachments": {},
   "cell_type": "markdown",
   "metadata": {},
   "source": [
    "2. Use o classificador Vizinho Mais Próximo e uma divisão percentual com 30% dos exemplos do dataset breast cancer usados para teste para obter o valor da acurácia e f1 deste classificador neste dataset."
   ]
  },
  {
   "cell_type": "code",
   "execution_count": 18,
   "metadata": {},
   "outputs": [
    {
     "name": "stdout",
     "output_type": "stream",
     "text": [
      "(398, 30) (398,)\n",
      "(171, 30) (171,)\n",
      "[0 1 1 1 1 0 1 1 1 1 1 1 0 1 1 1 1 1 1 1 0 1 1 1 1 1 0 0 1 0 0 0 0 0 1 1 0\n",
      " 1 1 0 1 1 1 0 1 1 0 0 1 0 1 1 1 1 1 0 0 0 1 0 0 0 1 1 1 1 1 1 0 0 1 0 1 1\n",
      " 1 1 0 1 0 0 0 1 0 0 0 1 0 1 0 0 0 0 1 1 0 0 1 1 1 1 1 0 1 1 0 0 1 0 1 0 1\n",
      " 0 0 0 1 1 0 1 0 1 1 1 0 1 0 1 0 1 1 0 1 1 1 1 1 0 1 1 1 1 1 1 1 0 1 1 1 0\n",
      " 1 1 1 0 1 1 1 0 1 1 1 1 1 1 1 1 0 0 1 1 1 1 1]\n",
      "[0 1 1 1 0 0 1 1 0 1 1 1 0 1 1 1 1 1 1 1 1 1 1 1 1 1 1 0 1 0 0 0 0 0 1 1 0\n",
      " 1 1 0 1 1 1 0 1 1 1 0 1 0 1 1 1 1 1 0 0 0 1 0 0 0 1 1 1 1 1 1 1 0 1 0 1 1\n",
      " 1 1 0 1 0 0 0 1 0 0 0 1 0 1 0 0 0 0 1 1 0 0 1 1 1 1 1 0 1 1 0 0 1 0 1 0 1\n",
      " 0 1 0 1 1 1 1 0 1 1 1 0 1 0 1 0 1 1 0 1 1 1 1 1 0 1 1 1 1 1 1 1 0 1 1 1 0\n",
      " 1 1 1 0 1 1 1 0 1 1 0 1 1 1 1 1 0 0 1 1 1 1 1]\n",
      "accuracy =  0.9473684210526315\n"
     ]
    }
   ],
   "source": [
    "bc_X = bc.data\n",
    "bc_y = bc.target\n",
    "\n",
    "from sklearn.model_selection import train_test_split\n",
    "from sklearn.neighbors import KNeighborsClassifier\n",
    "oneNN = KNeighborsClassifier(n_neighbors=1)\n",
    "\n",
    "X_train, X_test, y_train, y_test = train_test_split(bc_X, \n",
    "                    bc_y, test_size=0.3, random_state=5)\n",
    "print(X_train.shape, y_train.shape)\n",
    "print(X_test.shape, y_test.shape)\n",
    "\n",
    "oneNN.fit(X_train, y_train) \n",
    "print(y_test)\n",
    "y_pred = oneNN.predict(X_test)\n",
    "print(y_pred)\n",
    "\n",
    "print ('accuracy = ', oneNN.score(X_test, y_test))"
   ]
  },
  {
   "attachments": {},
   "cell_type": "markdown",
   "metadata": {},
   "source": [
    "3. Use o classificador Vizinho Mais Próximo e uma validação cruzada estratificada com 10 folds no dataset breast cancer para obter a matriz de confusão, a acurácia, o desvio padrão, o intervalo de confiança a 95%, a f1 macro, a precision micro e o recall micro deste classificador neste dataset."
   ]
  },
  {
   "cell_type": "code",
   "execution_count": 19,
   "metadata": {},
   "outputs": [
    {
     "name": "stdout",
     "output_type": "stream",
     "text": [
      "accuracy score: 0.95\n",
      "\n",
      "balanced accuracy score: 0.95\n",
      "\n",
      "precision score\n",
      "macro: 0.94\n",
      "micro: 0.95\n",
      "weighted: 0.95\n",
      "\n",
      "recall score\n",
      "macro: 0.95\n",
      "micro: 0.95\n",
      "weighted: 0.95\n",
      "\n",
      "fmeasure score\n",
      "macro: 0.94\n",
      "micro: 0.95\n",
      "weighted: 0.95\n",
      "\n"
     ]
    }
   ],
   "source": [
    "from sklearn.metrics import accuracy_score, balanced_accuracy_score, precision_score, recall_score, f1_score\n",
    "\n",
    "print(\"accuracy score: %.2f\\n\" % accuracy_score(y_pred, y_test))\n",
    "print(\"balanced accuracy score: %.2f\\n\" % balanced_accuracy_score(y_pred, y_test))\n",
    "\n",
    "print(\"precision score\")\n",
    "print(\"macro: %.2f\" % precision_score(y_pred, y_test, average='macro'))\n",
    "print(\"micro: %.2f\" % precision_score(y_pred, y_test, average='micro'))\n",
    "print(\"weighted: %.2f\\n\" % precision_score(y_pred, y_test, average='weighted'))\n",
    "\n",
    "print(\"recall score\")\n",
    "print(\"macro: %.2f\" % recall_score(y_pred, y_test, average='macro'))\n",
    "print(\"micro: %.2f\" % recall_score(y_pred, y_test, average='micro'))\n",
    "print(\"weighted: %.2f\\n\" % recall_score(y_pred, y_test, average='weighted'))\n",
    "\n",
    "print(\"fmeasure score\")\n",
    "print(\"macro: %.2f\" % f1_score(y_pred, y_test, average='macro'))\n",
    "print(\"micro: %.2f\" % f1_score(y_pred, y_test, average='micro'))\n",
    "print(\"weighted: %.2f\\n\" % f1_score(y_pred, y_test, average='weighted'))"
   ]
  }
 ],
 "metadata": {
  "kernelspec": {
   "display_name": "Python 3 (ipykernel)",
   "language": "python",
   "name": "python3"
  },
  "language_info": {
   "codemirror_mode": {
    "name": "ipython",
    "version": 3
   },
   "file_extension": ".py",
   "mimetype": "text/x-python",
   "name": "python",
   "nbconvert_exporter": "python",
   "pygments_lexer": "ipython3",
   "version": "3.10.6"
  },
  "orig_nbformat": 4
 },
 "nbformat": 4,
 "nbformat_minor": 2
}
