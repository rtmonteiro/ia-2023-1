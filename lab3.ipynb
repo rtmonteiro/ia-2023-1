{
  "cells": [
    {
      "cell_type": "markdown",
      "metadata": {
        "id": "scj9MQ2FRP2t"
      },
      "source": [
        "1. Carregue o dataset breast cancer disponível no sklearn e obtenha a distribuição de classes deste dataset"
      ]
    },
    {
      "cell_type": "code",
      "execution_count": 1,
      "metadata": {
        "id": "nVM__n9DRP2v"
      },
      "outputs": [],
      "source": [
        "from sklearn import datasets\n",
        "\n",
        "ds = datasets.load_breast_cancer()"
      ]
    },
    {
      "cell_type": "code",
      "execution_count": 2,
      "metadata": {
        "id": "1e-rpUMWRP2w"
      },
      "outputs": [],
      "source": [
        "import numpy as np\n",
        "def classDistribution (classData):\n",
        "\n",
        "    tam = len(classData)\n",
        "    labels = np.unique(classData)\n",
        "    \n",
        "    classDistr = []\n",
        "    for class_value in labels:   \n",
        "        cvc = len([1 for i in classData if i == class_value])\n",
        "        classDistr += [(class_value, cvc/tam)]\n",
        "\n",
        "    return classDistr"
      ]
    },
    {
      "cell_type": "code",
      "execution_count": 3,
      "metadata": {
        "colab": {
          "base_uri": "https://localhost:8080/"
        },
        "id": "v9_yTjlnRP2y",
        "outputId": "133b56ff-131b-4469-fd82-a803ec5281f0"
      },
      "outputs": [
        {
          "output_type": "execute_result",
          "data": {
            "text/plain": [
              "[(0, 0.37258347978910367), (1, 0.6274165202108963)]"
            ]
          },
          "metadata": {},
          "execution_count": 3
        }
      ],
      "source": [
        "classDistribution(ds.target)"
      ]
    },
    {
      "cell_type": "markdown",
      "metadata": {
        "id": "UrwLPT2gRP2y"
      },
      "source": [
        "2. Use o classificador Vizinho Mais Próximo e uma divisão percentual com 30% dos exemplos do dataset breast cancer usados para teste para obter o valor da acurácia e f1 deste classificador neste dataset."
      ]
    },
    {
      "cell_type": "code",
      "execution_count": 14,
      "metadata": {
        "colab": {
          "base_uri": "https://localhost:8080/"
        },
        "id": "Byt7Q36DRP2y",
        "outputId": "57d32737-223c-4481-dcc0-4d8b351ff7a7"
      },
      "outputs": [
        {
          "output_type": "stream",
          "name": "stdout",
          "text": [
            "(398, 30) (398,)\n",
            "(171, 30) (171,)\n",
            "28     0\n",
            "163    1\n",
            "123    1\n",
            "361    1\n",
            "549    1\n",
            "      ..\n",
            "447    1\n",
            "98     1\n",
            "448    1\n",
            "381    1\n",
            "467    1\n",
            "Name: target, Length: 171, dtype: int64\n",
            "[0 1 1 1 0 0 1 1 0 1 1 1 0 1 1 1 1 1 1 1 1 1 1 1 1 1 1 0 1 0 0 0 0 0 1 1 0\n",
            " 1 1 0 1 1 1 0 1 1 1 0 1 0 1 1 1 1 1 0 0 0 1 0 0 0 1 1 1 1 1 1 1 0 1 0 1 1\n",
            " 1 1 0 1 0 0 0 1 0 0 0 1 0 1 0 0 0 0 1 1 0 0 1 1 1 1 1 0 1 1 0 0 1 0 1 0 1\n",
            " 0 1 0 1 1 1 1 0 1 1 1 0 1 0 1 0 1 1 0 1 1 1 1 1 0 1 1 1 1 1 1 1 0 1 1 1 0\n",
            " 1 1 1 0 1 1 1 0 1 1 0 1 1 1 1 1 0 0 1 1 1 1 1]\n",
            "accuracy =  0.9473684210526315\n"
          ]
        }
      ],
      "source": [
        "ds_X = ds.data\n",
        "ds_y = ds.target\n",
        "\n",
        "from sklearn.model_selection import train_test_split\n",
        "from sklearn.neighbors import KNeighborsClassifier\n",
        "oneNN = KNeighborsClassifier(n_neighbors=1)\n",
        "\n",
        "X_train, X_test, y_train, y_test = train_test_split(ds_X, \n",
        "                    ds_y, test_size=0.3, random_state=5)\n",
        "print(X_train.shape, y_train.shape)\n",
        "print(X_test.shape, y_test.shape)\n",
        "\n",
        "oneNN.fit(X_train, y_train) \n",
        "print(y_test)\n",
        "y_pred = oneNN.predict(X_test)\n",
        "print(y_pred)\n",
        "\n",
        "print ('accuracy = ', oneNN.score(X_test, y_test))"
      ]
    },
    {
      "cell_type": "markdown",
      "metadata": {
        "id": "_HlyLapaRP2z"
      },
      "source": [
        "3. Use o classificador Vizinho Mais Próximo e uma validação cruzada estratificada com 10 folds no dataset breast cancer para obter a matriz de confusão, a acurácia, o desvio padrão, o intervalo de confiança a 95%, a f1 macro, a precision micro e o recall micro deste classificador neste dataset."
      ]
    },
    {
      "cell_type": "code",
      "execution_count": 7,
      "metadata": {
        "colab": {
          "base_uri": "https://localhost:8080/"
        },
        "id": "szhrYV30RP20",
        "outputId": "72b2cbf2-f8c8-48b4-867a-bef72d09015f"
      },
      "outputs": [
        {
          "output_type": "stream",
          "name": "stdout",
          "text": [
            "accuracy score: 0.95\n",
            "\n",
            "balanced accuracy score: 0.95\n",
            "\n",
            "precision score\n",
            "macro: 0.94\n",
            "micro: 0.95\n",
            "weighted: 0.95\n",
            "\n",
            "recall score\n",
            "macro: 0.95\n",
            "micro: 0.95\n",
            "weighted: 0.95\n",
            "\n",
            "fmeasure score\n",
            "macro: 0.94\n",
            "micro: 0.95\n",
            "weighted: 0.95\n",
            "\n"
          ]
        }
      ],
      "source": [
        "from sklearn.metrics import accuracy_score, balanced_accuracy_score, precision_score, recall_score, f1_score\n",
        "\n",
        "print(\"accuracy score: %.2f\\n\" % accuracy_score(y_pred, y_test))\n",
        "print(\"balanced accuracy score: %.2f\\n\" % balanced_accuracy_score(y_pred, y_test))\n",
        "\n",
        "print(\"precision score\")\n",
        "print(\"macro: %.2f\" % precision_score(y_pred, y_test, average='macro'))\n",
        "print(\"micro: %.2f\" % precision_score(y_pred, y_test, average='micro'))\n",
        "print(\"weighted: %.2f\\n\" % precision_score(y_pred, y_test, average='weighted'))\n",
        "\n",
        "print(\"recall score\")\n",
        "print(\"macro: %.2f\" % recall_score(y_pred, y_test, average='macro'))\n",
        "print(\"micro: %.2f\" % recall_score(y_pred, y_test, average='micro'))\n",
        "print(\"weighted: %.2f\\n\" % recall_score(y_pred, y_test, average='weighted'))\n",
        "\n",
        "print(\"fmeasure score\")\n",
        "print(\"macro: %.2f\" % f1_score(y_pred, y_test, average='macro'))\n",
        "print(\"micro: %.2f\" % f1_score(y_pred, y_test, average='micro'))\n",
        "print(\"weighted: %.2f\\n\" % f1_score(y_pred, y_test, average='weighted'))"
      ]
    },
    {
      "cell_type": "markdown",
      "source": [
        "4. Use o classificador K Vizinhos Mais Próximos com o método de validação cruzada com busca em grade (use 10 partições) no dataset breast cancer para realizar a busca pelo melhor valor de K. Apresente a melhor acurácia obtida, o  desvio padrão, o intervalo de confiança a 95% e o valor de K correspondente."
      ],
      "metadata": {
        "id": "1y7rCcogStRX"
      }
    },
    {
      "cell_type": "code",
      "source": [
        "from sklearn.model_selection import GridSearchCV\n",
        "\n",
        "params = {'n_neighbors': list(range(1, 10))}\n",
        "knn = KNeighborsClassifier()\n",
        "clf = GridSearchCV(knn, params, cv=10)\n",
        "clf.fit(ds_X, ds_y)"
      ],
      "metadata": {
        "id": "ri9-C6H7S-ie",
        "outputId": "5e4ddc39-3ec4-4bc0-82a0-05cc2d3189d8",
        "colab": {
          "base_uri": "https://localhost:8080/",
          "height": 118
        }
      },
      "execution_count": 18,
      "outputs": [
        {
          "output_type": "execute_result",
          "data": {
            "text/plain": [
              "GridSearchCV(cv=10, estimator=KNeighborsClassifier(),\n",
              "             param_grid={'n_neighbors': [1, 2, 3, 4, 5, 6, 7, 8, 9]})"
            ],
            "text/html": [
              "<style>#sk-container-id-4 {color: black;background-color: white;}#sk-container-id-4 pre{padding: 0;}#sk-container-id-4 div.sk-toggleable {background-color: white;}#sk-container-id-4 label.sk-toggleable__label {cursor: pointer;display: block;width: 100%;margin-bottom: 0;padding: 0.3em;box-sizing: border-box;text-align: center;}#sk-container-id-4 label.sk-toggleable__label-arrow:before {content: \"▸\";float: left;margin-right: 0.25em;color: #696969;}#sk-container-id-4 label.sk-toggleable__label-arrow:hover:before {color: black;}#sk-container-id-4 div.sk-estimator:hover label.sk-toggleable__label-arrow:before {color: black;}#sk-container-id-4 div.sk-toggleable__content {max-height: 0;max-width: 0;overflow: hidden;text-align: left;background-color: #f0f8ff;}#sk-container-id-4 div.sk-toggleable__content pre {margin: 0.2em;color: black;border-radius: 0.25em;background-color: #f0f8ff;}#sk-container-id-4 input.sk-toggleable__control:checked~div.sk-toggleable__content {max-height: 200px;max-width: 100%;overflow: auto;}#sk-container-id-4 input.sk-toggleable__control:checked~label.sk-toggleable__label-arrow:before {content: \"▾\";}#sk-container-id-4 div.sk-estimator input.sk-toggleable__control:checked~label.sk-toggleable__label {background-color: #d4ebff;}#sk-container-id-4 div.sk-label input.sk-toggleable__control:checked~label.sk-toggleable__label {background-color: #d4ebff;}#sk-container-id-4 input.sk-hidden--visually {border: 0;clip: rect(1px 1px 1px 1px);clip: rect(1px, 1px, 1px, 1px);height: 1px;margin: -1px;overflow: hidden;padding: 0;position: absolute;width: 1px;}#sk-container-id-4 div.sk-estimator {font-family: monospace;background-color: #f0f8ff;border: 1px dotted black;border-radius: 0.25em;box-sizing: border-box;margin-bottom: 0.5em;}#sk-container-id-4 div.sk-estimator:hover {background-color: #d4ebff;}#sk-container-id-4 div.sk-parallel-item::after {content: \"\";width: 100%;border-bottom: 1px solid gray;flex-grow: 1;}#sk-container-id-4 div.sk-label:hover label.sk-toggleable__label {background-color: #d4ebff;}#sk-container-id-4 div.sk-serial::before {content: \"\";position: absolute;border-left: 1px solid gray;box-sizing: border-box;top: 0;bottom: 0;left: 50%;z-index: 0;}#sk-container-id-4 div.sk-serial {display: flex;flex-direction: column;align-items: center;background-color: white;padding-right: 0.2em;padding-left: 0.2em;position: relative;}#sk-container-id-4 div.sk-item {position: relative;z-index: 1;}#sk-container-id-4 div.sk-parallel {display: flex;align-items: stretch;justify-content: center;background-color: white;position: relative;}#sk-container-id-4 div.sk-item::before, #sk-container-id-4 div.sk-parallel-item::before {content: \"\";position: absolute;border-left: 1px solid gray;box-sizing: border-box;top: 0;bottom: 0;left: 50%;z-index: -1;}#sk-container-id-4 div.sk-parallel-item {display: flex;flex-direction: column;z-index: 1;position: relative;background-color: white;}#sk-container-id-4 div.sk-parallel-item:first-child::after {align-self: flex-end;width: 50%;}#sk-container-id-4 div.sk-parallel-item:last-child::after {align-self: flex-start;width: 50%;}#sk-container-id-4 div.sk-parallel-item:only-child::after {width: 0;}#sk-container-id-4 div.sk-dashed-wrapped {border: 1px dashed gray;margin: 0 0.4em 0.5em 0.4em;box-sizing: border-box;padding-bottom: 0.4em;background-color: white;}#sk-container-id-4 div.sk-label label {font-family: monospace;font-weight: bold;display: inline-block;line-height: 1.2em;}#sk-container-id-4 div.sk-label-container {text-align: center;}#sk-container-id-4 div.sk-container {/* jupyter's `normalize.less` sets `[hidden] { display: none; }` but bootstrap.min.css set `[hidden] { display: none !important; }` so we also need the `!important` here to be able to override the default hidden behavior on the sphinx rendered scikit-learn.org. See: https://github.com/scikit-learn/scikit-learn/issues/21755 */display: inline-block !important;position: relative;}#sk-container-id-4 div.sk-text-repr-fallback {display: none;}</style><div id=\"sk-container-id-4\" class=\"sk-top-container\"><div class=\"sk-text-repr-fallback\"><pre>GridSearchCV(cv=10, estimator=KNeighborsClassifier(),\n",
              "             param_grid={&#x27;n_neighbors&#x27;: [1, 2, 3, 4, 5, 6, 7, 8, 9]})</pre><b>In a Jupyter environment, please rerun this cell to show the HTML representation or trust the notebook. <br />On GitHub, the HTML representation is unable to render, please try loading this page with nbviewer.org.</b></div><div class=\"sk-container\" hidden><div class=\"sk-item sk-dashed-wrapped\"><div class=\"sk-label-container\"><div class=\"sk-label sk-toggleable\"><input class=\"sk-toggleable__control sk-hidden--visually\" id=\"sk-estimator-id-6\" type=\"checkbox\" ><label for=\"sk-estimator-id-6\" class=\"sk-toggleable__label sk-toggleable__label-arrow\">GridSearchCV</label><div class=\"sk-toggleable__content\"><pre>GridSearchCV(cv=10, estimator=KNeighborsClassifier(),\n",
              "             param_grid={&#x27;n_neighbors&#x27;: [1, 2, 3, 4, 5, 6, 7, 8, 9]})</pre></div></div></div><div class=\"sk-parallel\"><div class=\"sk-parallel-item\"><div class=\"sk-item\"><div class=\"sk-label-container\"><div class=\"sk-label sk-toggleable\"><input class=\"sk-toggleable__control sk-hidden--visually\" id=\"sk-estimator-id-7\" type=\"checkbox\" ><label for=\"sk-estimator-id-7\" class=\"sk-toggleable__label sk-toggleable__label-arrow\">estimator: KNeighborsClassifier</label><div class=\"sk-toggleable__content\"><pre>KNeighborsClassifier()</pre></div></div></div><div class=\"sk-serial\"><div class=\"sk-item\"><div class=\"sk-estimator sk-toggleable\"><input class=\"sk-toggleable__control sk-hidden--visually\" id=\"sk-estimator-id-8\" type=\"checkbox\" ><label for=\"sk-estimator-id-8\" class=\"sk-toggleable__label sk-toggleable__label-arrow\">KNeighborsClassifier</label><div class=\"sk-toggleable__content\"><pre>KNeighborsClassifier()</pre></div></div></div></div></div></div></div></div></div></div>"
            ]
          },
          "metadata": {},
          "execution_count": 18
        }
      ]
    },
    {
      "cell_type": "code",
      "source": [
        "clf.best_params_"
      ],
      "metadata": {
        "id": "GJMknST5VhEN",
        "outputId": "a8ab1030-d98f-4ab6-fb64-8b5f7a11869b",
        "colab": {
          "base_uri": "https://localhost:8080/"
        }
      },
      "execution_count": 20,
      "outputs": [
        {
          "output_type": "execute_result",
          "data": {
            "text/plain": [
              "{'n_neighbors': 8}"
            ]
          },
          "metadata": {},
          "execution_count": 20
        }
      ]
    },
    {
      "cell_type": "code",
      "source": [
        "clf.best_score_"
      ],
      "metadata": {
        "id": "5lCCQpugVkFJ",
        "outputId": "3f9ec518-7a25-4587-b45e-36008ec48ecf",
        "colab": {
          "base_uri": "https://localhost:8080/"
        }
      },
      "execution_count": 21,
      "outputs": [
        {
          "output_type": "execute_result",
          "data": {
            "text/plain": [
              "0.9297619047619048"
            ]
          },
          "metadata": {},
          "execution_count": 21
        }
      ]
    },
    {
      "cell_type": "code",
      "source": [
        "from scipy import stats\n",
        "\n",
        "best = clf.best_params_['n_neighbors'] - 1\n",
        "\n",
        "scores = np.array([\n",
        "    clf.cv_results_['split0_test_score'][best],\n",
        "    clf.cv_results_['split1_test_score'][best],\n",
        "    clf.cv_results_['split2_test_score'][best],\n",
        "    clf.cv_results_['split3_test_score'][best],\n",
        "    clf.cv_results_['split4_test_score'][best],\n",
        "    clf.cv_results_['split5_test_score'][best],\n",
        "    clf.cv_results_['split6_test_score'][best],\n",
        "    clf.cv_results_['split7_test_score'][best],\n",
        "    clf.cv_results_['split8_test_score'][best],\n",
        "    clf.cv_results_['split9_test_score'][best],\n",
        "])\n",
        "\n",
        "mean = scores.mean()\n",
        "std = scores.std()\n",
        "inf, sup = stats.norm.interval(0.95, loc=mean, scale=std/np.sqrt(len(scores)))\n",
        "\n",
        "print(mean, std)\n",
        "\n",
        "print(inf, sup)"
      ],
      "metadata": {
        "id": "Pfz-l--uVoWW",
        "outputId": "237e4002-aa0f-4e4c-fd2c-d4f61bfcdaca",
        "colab": {
          "base_uri": "https://localhost:8080/"
        }
      },
      "execution_count": 26,
      "outputs": [
        {
          "output_type": "stream",
          "name": "stdout",
          "text": [
            "0.9297619047619048 0.03228179384895913\n",
            "0.9097538093004399 0.9497700002233697\n"
          ]
        }
      ]
    },
    {
      "cell_type": "markdown",
      "source": [
        "5. Use o classificador K Vizinhos Mais Próximos no dataset breast cancer para obter seu desempenho estimando o melhor valor de K em cada partição da validação cruzada com 10 partições mas sem possibilidade de superajuste. Repita o procedimento por 3 vezes. Apresente a melhor acurácia obtida, o desvio padrão e o intervalo de confiança a 95%."
      ],
      "metadata": {
        "id": "z9HzFi8fXqcu"
      }
    },
    {
      "cell_type": "code",
      "source": [
        "from sklearn.model_selection import cross_val_score, RepeatedStratifiedKFold\n",
        "\n",
        "params = {'n_neighbors': list(range(1, 10))}\n",
        "\n",
        "knn = KNeighborsClassifier()\n",
        "\n",
        "clf = GridSearchCV(estimator=knn, param_grid=params, scoring='accuracy', cv = 4)\n",
        "\n",
        "rkf = RepeatedStratifiedKFold(n_splits=10, n_repeats=3)\n",
        "\n",
        "scores = cross_val_score(clf, ds_X, ds_y, scoring='accuracy', cv=rkf)\n",
        "\n",
        "print(scores)\n",
        "\n",
        "mean = scores.mean()\n",
        "std = scores.std()\n",
        "inf, sup = stats.norm.interval(0.95, loc=mean, scale=std/np.sqrt(len(scores)))"
      ],
      "metadata": {
        "id": "cGOfSpYdX1vf",
        "outputId": "e4b5d389-9ed7-4175-bb66-15dc5b253348",
        "colab": {
          "base_uri": "https://localhost:8080/"
        }
      },
      "execution_count": 27,
      "outputs": [
        {
          "output_type": "stream",
          "name": "stdout",
          "text": [
            "[0.89473684 0.98245614 0.92982456 0.94736842 0.96491228 0.94736842\n",
            " 0.9122807  0.96491228 0.92982456 0.80357143 0.89473684 0.98245614\n",
            " 0.94736842 0.96491228 0.92982456 0.89473684 0.94736842 0.92982456\n",
            " 0.87719298 0.92857143 0.9122807  0.94736842 0.98245614 0.92982456\n",
            " 0.94736842 0.9122807  0.94736842 0.92982456 0.92982456 0.92857143]\n"
          ]
        }
      ]
    },
    {
      "cell_type": "markdown",
      "source": [
        "6. Repita o procedimento proposto no exercício 5 somente trocando o classificador para uma Árvore de Decisão. Compare o desempenho obtido pelo K Vizinhos Mais Próximos com a Árvore de Decisão utilizando o teste T e o de Wilcoxon."
      ],
      "metadata": {
        "id": "T4GCswewaJnB"
      }
    },
    {
      "cell_type": "code",
      "source": [
        "from sklearn.tree import DecisionTreeClassifier\n",
        "\n",
        "dT = DecisionTreeClassifier()\n",
        "\n",
        "dTGrade = {'max_depth': [2, 3], 'min_samples_split': [2, 4]}\n",
        "\n",
        "dTGS = GridSearchCV(estimator=dT, param_grid=dTGrade, scoring='accuracy', cv=4)\n",
        "\n",
        "dTScores = cross_val_score(dTGS, ds_X, ds_y, scoring='accuracy', cv=rkf)\n",
        "\n",
        "print(dTScores)\n",
        "\n",
        "dTMean = dTScores.mean()\n",
        "dTStd = dTScores.std()\n",
        "dTInf, dTSup = stats.norm.interval(0.95, loc=dTMean, scale=dTStd/np.sqrt(len(dTScores)))\n",
        "\n",
        "print(dTMean, dTStd)\n",
        "print(dTInf, dTSup)"
      ],
      "metadata": {
        "id": "pzr3bO24aOfi",
        "outputId": "b67b2074-fdf3-4452-d5f7-56cdc895cb1a",
        "colab": {
          "base_uri": "https://localhost:8080/"
        }
      },
      "execution_count": 28,
      "outputs": [
        {
          "output_type": "stream",
          "name": "stdout",
          "text": [
            "[0.87719298 0.87719298 0.9122807  0.94736842 0.92982456 0.87719298\n",
            " 0.96491228 0.84210526 0.92982456 0.875      0.92982456 0.92982456\n",
            " 0.94736842 0.87719298 0.92982456 0.87719298 0.98245614 0.89473684\n",
            " 0.89473684 0.91071429 0.9122807  0.98245614 0.9122807  0.9122807\n",
            " 0.8245614  0.92982456 0.94736842 0.92982456 0.96491228 0.875     ]\n",
            "0.913251879699248 0.03802707150220914\n",
            "0.8996443169723548 0.9268594424261413\n"
          ]
        }
      ]
    }
  ],
  "metadata": {
    "kernelspec": {
      "display_name": "Python 3 (ipykernel)",
      "language": "python",
      "name": "python3"
    },
    "language_info": {
      "codemirror_mode": {
        "name": "ipython",
        "version": 3
      },
      "file_extension": ".py",
      "mimetype": "text/x-python",
      "name": "python",
      "nbconvert_exporter": "python",
      "pygments_lexer": "ipython3",
      "version": "3.10.6"
    },
    "orig_nbformat": 4,
    "colab": {
      "provenance": []
    }
  },
  "nbformat": 4,
  "nbformat_minor": 0
}