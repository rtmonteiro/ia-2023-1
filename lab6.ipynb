{
  "nbformat": 4,
  "nbformat_minor": 0,
  "metadata": {
    "colab": {
      "provenance": [],
      "authorship_tag": "ABX9TyMoh2vwlQ15raRAnQsEGMfy",
      "include_colab_link": true
    },
    "kernelspec": {
      "name": "python3",
      "display_name": "Python 3"
    },
    "language_info": {
      "name": "python"
    }
  },
  "cells": [
    {
      "cell_type": "markdown",
      "metadata": {
        "id": "view-in-github",
        "colab_type": "text"
      },
      "source": [
        "<a href=\"https://colab.research.google.com/github/rtmonteiro/ia-2023-1/blob/main/lab6.ipynb\" target=\"_parent\"><img src=\"https://colab.research.google.com/assets/colab-badge.svg\" alt=\"Open In Colab\"/></a>"
      ]
    },
    {
      "cell_type": "code",
      "source": [
        "def repo(scores, classifier=None):\n",
        "    from scipy import stats\n",
        "    import numpy as np\n",
        "    if classifier:\n",
        "      print(f\"{classifier}: \")\n",
        "    print(f'Media: {scores.mean():.2f}, Desvio Padrao: {scores.std():.2f}')\n",
        "    inf, sup = stats.norm.interval(0.95, loc=scores.mean(), \n",
        "                               scale=scores.std()/np.sqrt(len(scores)))\n",
        "    print(f'Intervalo de confiança (95%): [{inf:.2f},{sup:.2f}]\\n')"
      ],
      "metadata": {
        "id": "6-oRx7SHh-rb"
      },
      "execution_count": 24,
      "outputs": []
    },
    {
      "cell_type": "markdown",
      "source": [
        "1. Compare a acurácia da árvore de decisão que utiliza ganho de informação com aquela que usa\n",
        "índice gini para seleção da característica dos nós de decisão da árvore no dataset wine. Faça a\n",
        "comparação usando 6 rodadas de validação cruzada estratificada com 5 folds. A menos do critério\n",
        "de seleção de caraterísticas, use os valores default para os demais hiperparâmetros da árvore.\n",
        "Indique se existe diferença significativa entre os resultados das árvores usando o teste t de Student."
      ],
      "metadata": {
        "id": "cyWvjXxwcxTC"
      }
    },
    {
      "cell_type": "code",
      "execution_count": 18,
      "metadata": {
        "colab": {
          "base_uri": "https://localhost:8080/"
        },
        "id": "S8LZGXqXZqJZ",
        "outputId": "a9e9959d-f03c-4012-c340-7e26c5d216fd"
      },
      "outputs": [
        {
          "output_type": "execute_result",
          "data": {
            "text/plain": [
              "Ttest_indResult(statistic=1.771705066201773, pvalue=0.0816965987499078)"
            ]
          },
          "metadata": {},
          "execution_count": 18
        }
      ],
      "source": [
        "from sklearn.model_selection import cross_val_score\n",
        "from sklearn.model_selection import RepeatedStratifiedKFold\n",
        "from sklearn.tree import DecisionTreeClassifier\n",
        "from sklearn.datasets import load_wine\n",
        "from scipy import stats\n",
        "\n",
        "wine = load_wine()\n",
        "wine_X = wine.data\n",
        "wine_Y = wine.target\n",
        "\n",
        "#Ganho de informação\n",
        "dt_ent = DecisionTreeClassifier(criterion = 'entropy')\n",
        "\n",
        "rkf = RepeatedStratifiedKFold(n_splits=5, n_repeats=6)\n",
        "\n",
        "scores1 = cross_val_score(dt_ent, wine_X, wine_Y, cv = rkf)\n",
        "\n",
        "#Gini\n",
        "dt_gini = DecisionTreeClassifier()\n",
        "\n",
        "rkf = RepeatedStratifiedKFold(n_splits=5, n_repeats=6)\n",
        "\n",
        "scores2 = cross_val_score(dt_gini, wine_X, wine_Y, \n",
        "                         cv = rkf)\n",
        "\n",
        "stats.ttest_ind(scores1, scores2)"
      ]
    },
    {
      "cell_type": "markdown",
      "source": [
        "2. Determine qual o valor do hiperparâmetro ccp_alpha (fator de poda) em uma busca em grade\n",
        "com validação cruzada em 10 folds no dataset wine que obtém a melhor acurácia média. Varie o\n",
        "hiperparâmetro de 0.1 em 0.1 no intervalo entre 0.1 e 0.7."
      ],
      "metadata": {
        "id": "PawFKBdxck41"
      }
    },
    {
      "cell_type": "code",
      "source": [
        "from sklearn.model_selection import GridSearchCV\n",
        "\n",
        "parameters = {'ccp_alpha': [i/10 for i in range(1,8)]}\n",
        "\n",
        "dt = DecisionTreeClassifier()\n",
        "\n",
        "clf = GridSearchCV(dt, parameters,cv=10)\n",
        "\n",
        "clf.fit(wine_X,wine_Y)\n",
        "\n",
        "print(clf.best_params_)\n",
        "print(clf.best_score_)"
      ],
      "metadata": {
        "colab": {
          "base_uri": "https://localhost:8080/"
        },
        "id": "gcGby2AQco5l",
        "outputId": "2ede38e9-7895-4a4d-b2be-55b56249ec6a"
      },
      "execution_count": 12,
      "outputs": [
        {
          "output_type": "stream",
          "name": "stdout",
          "text": [
            "{'ccp_alpha': 0.1}\n",
            "0.8045751633986928\n"
          ]
        }
      ]
    },
    {
      "cell_type": "markdown",
      "source": [
        "3. Compare o desempenho em f1 macro do classificador Naive Bayes com os do classificadores\n",
        "Árvore de Decisão (com valores default de hiperparâmetros) e com o classificador aleatório\n",
        "estratificado em uma validação cruzada com 10 folds no dataset breast."
      ],
      "metadata": {
        "id": "4MiuaIxpeEou"
      }
    },
    {
      "cell_type": "code",
      "source": [
        "from sklearn.datasets import load_breast_cancer\n",
        "from sklearn.naive_bayes import GaussianNB\n",
        "from sklearn.dummy import DummyClassifier\n",
        "\n",
        "breast = load_breast_cancer()\n",
        "breast_X = breast.data\n",
        "breast_y = breast.target\n",
        "\n",
        "# Naive Bayes\n",
        "gNB = GaussianNB()\n",
        "\n",
        "scores_gnb = cross_val_score(gNB, breast_X, breast_y, cv=10, scoring=\"f1\")\n",
        "\n",
        "repo(scores_gnb, \"Naive Bayes\")\n",
        "\n",
        "# Decision Tree\n",
        "dt = DecisionTreeClassifier()\n",
        "\n",
        "scores_dt = cross_val_score(dt, breast_X, breast_y, cv=10, scoring=\"f1\")\n",
        "repo(scores_dt, \"Decision Tree\")\n",
        "\n",
        "# Aleatorio estratificado\n",
        "dc = DummyClassifier(strategy=\"stratified\")\n",
        "\n",
        "scores_dummy = cross_val_score(dc, breast_X, breast_y, cv=10, scoring=\"f1\")\n",
        "\n",
        "repo(scores_dummy, \"Dummy Classifier\")\n"
      ],
      "metadata": {
        "colab": {
          "base_uri": "https://localhost:8080/"
        },
        "id": "55oLRHp_gtGS",
        "outputId": "358c46f9-5933-4141-fb5a-1f0fb6c86b86"
      },
      "execution_count": 25,
      "outputs": [
        {
          "output_type": "stream",
          "name": "stdout",
          "text": [
            "Naive Bayes: \n",
            "Media: 0.95, Desvio Padrao: 0.02\n",
            "Intervalo de confiança (95%): [0.94,0.96]\n",
            "\n",
            "Decision Tree: \n",
            "Media: 0.93, Desvio Padrao: 0.02\n",
            "Intervalo de confiança (95%): [0.92,0.94]\n",
            "\n",
            "Dummy Classifier: \n",
            "Media: 0.60, Desvio Padrao: 0.06\n",
            "Intervalo de confiança (95%): [0.56,0.63]\n",
            "\n"
          ]
        }
      ]
    },
    {
      "cell_type": "markdown",
      "source": [
        "4. Obtenha a acurácia média, o desvio padrão e o intervalo de confiança a 95% do classificador\n",
        "Perceptron de Múltiplas Camadas usando validação cruzada com 10 dobras (folds) na base de dados\n",
        "(dataset) wine padronizada e não padronizada. Altere manualmente o valor da taxa de aprendizado\n",
        "inicial no melhor classificador para 0.1, 0.01 e 0.0001 e observe o resultado."
      ],
      "metadata": {
        "id": "84sdfvzAeIc3"
      }
    },
    {
      "cell_type": "code",
      "source": [
        "from sklearn.neural_network import MLPClassifier\n",
        "from sklearn.preprocessing import StandardScaler\n",
        "from sklearn.pipeline import Pipeline\n",
        "\n",
        "repo(cross_val_score(MLPClassifier(activation=\"identity\"), wine_X, wine_Y, cv=10), \"MLP\")\n",
        "\n",
        "pipe = Pipeline([('scaler', StandardScaler()), ('estimator', MLPClassifier(activation=\"identity\"))])\n",
        "\n",
        "repo(cross_val_score(pipe, wine_X, wine_Y, cv=10), \"MLP + StandardScaler\")\n",
        "\n",
        "for j in [0.1, 0.01, 0.0001]:\n",
        "  pipe = Pipeline([('scaler', StandardScaler()), ('estimator', MLPClassifier(learning_rate_init=j, activation=\"identity\"))])\n",
        "\n",
        "  repo(cross_val_score(pipe, wine_X, wine_Y, cv=10), f\"MLP(learning rate:{j}) + StandardScaler\")"
      ],
      "metadata": {
        "colab": {
          "base_uri": "https://localhost:8080/"
        },
        "id": "KGKyq-0meI2F",
        "outputId": "1d575c5a-d566-45a9-8517-af83b2569dd6"
      },
      "execution_count": 40,
      "outputs": [
        {
          "output_type": "stream",
          "name": "stderr",
          "text": [
            "/usr/local/lib/python3.10/dist-packages/sklearn/neural_network/_multilayer_perceptron.py:686: ConvergenceWarning: Stochastic Optimizer: Maximum iterations (200) reached and the optimization hasn't converged yet.\n",
            "  warnings.warn(\n",
            "/usr/local/lib/python3.10/dist-packages/sklearn/neural_network/_multilayer_perceptron.py:686: ConvergenceWarning: Stochastic Optimizer: Maximum iterations (200) reached and the optimization hasn't converged yet.\n",
            "  warnings.warn(\n",
            "/usr/local/lib/python3.10/dist-packages/sklearn/neural_network/_multilayer_perceptron.py:686: ConvergenceWarning: Stochastic Optimizer: Maximum iterations (200) reached and the optimization hasn't converged yet.\n",
            "  warnings.warn(\n",
            "/usr/local/lib/python3.10/dist-packages/sklearn/neural_network/_multilayer_perceptron.py:686: ConvergenceWarning: Stochastic Optimizer: Maximum iterations (200) reached and the optimization hasn't converged yet.\n",
            "  warnings.warn(\n",
            "/usr/local/lib/python3.10/dist-packages/sklearn/neural_network/_multilayer_perceptron.py:686: ConvergenceWarning: Stochastic Optimizer: Maximum iterations (200) reached and the optimization hasn't converged yet.\n",
            "  warnings.warn(\n"
          ]
        },
        {
          "output_type": "stream",
          "name": "stdout",
          "text": [
            "MLP: \n",
            "Media: 0.70, Desvio Padrao: 0.17\n",
            "Intervalo de confiança (95%): [0.60,0.81]\n",
            "\n"
          ]
        },
        {
          "output_type": "stream",
          "name": "stderr",
          "text": [
            "/usr/local/lib/python3.10/dist-packages/sklearn/neural_network/_multilayer_perceptron.py:686: ConvergenceWarning: Stochastic Optimizer: Maximum iterations (200) reached and the optimization hasn't converged yet.\n",
            "  warnings.warn(\n",
            "/usr/local/lib/python3.10/dist-packages/sklearn/neural_network/_multilayer_perceptron.py:686: ConvergenceWarning: Stochastic Optimizer: Maximum iterations (200) reached and the optimization hasn't converged yet.\n",
            "  warnings.warn(\n",
            "/usr/local/lib/python3.10/dist-packages/sklearn/neural_network/_multilayer_perceptron.py:686: ConvergenceWarning: Stochastic Optimizer: Maximum iterations (200) reached and the optimization hasn't converged yet.\n",
            "  warnings.warn(\n",
            "/usr/local/lib/python3.10/dist-packages/sklearn/neural_network/_multilayer_perceptron.py:686: ConvergenceWarning: Stochastic Optimizer: Maximum iterations (200) reached and the optimization hasn't converged yet.\n",
            "  warnings.warn(\n",
            "/usr/local/lib/python3.10/dist-packages/sklearn/neural_network/_multilayer_perceptron.py:686: ConvergenceWarning: Stochastic Optimizer: Maximum iterations (200) reached and the optimization hasn't converged yet.\n",
            "  warnings.warn(\n",
            "/usr/local/lib/python3.10/dist-packages/sklearn/neural_network/_multilayer_perceptron.py:686: ConvergenceWarning: Stochastic Optimizer: Maximum iterations (200) reached and the optimization hasn't converged yet.\n",
            "  warnings.warn(\n",
            "/usr/local/lib/python3.10/dist-packages/sklearn/neural_network/_multilayer_perceptron.py:686: ConvergenceWarning: Stochastic Optimizer: Maximum iterations (200) reached and the optimization hasn't converged yet.\n",
            "  warnings.warn(\n",
            "/usr/local/lib/python3.10/dist-packages/sklearn/neural_network/_multilayer_perceptron.py:686: ConvergenceWarning: Stochastic Optimizer: Maximum iterations (200) reached and the optimization hasn't converged yet.\n",
            "  warnings.warn(\n",
            "/usr/local/lib/python3.10/dist-packages/sklearn/neural_network/_multilayer_perceptron.py:686: ConvergenceWarning: Stochastic Optimizer: Maximum iterations (200) reached and the optimization hasn't converged yet.\n",
            "  warnings.warn(\n"
          ]
        },
        {
          "output_type": "stream",
          "name": "stdout",
          "text": [
            "MLP + StandardScaler: \n",
            "Media: 0.98, Desvio Padrao: 0.03\n",
            "Intervalo de confiança (95%): [0.96,0.99]\n",
            "\n",
            "MLP(learning rate:0.1) + StandardScaler: \n",
            "Media: 0.98, Desvio Padrao: 0.03\n",
            "Intervalo de confiança (95%): [0.96,0.99]\n",
            "\n",
            "MLP(learning rate:0.01) + StandardScaler: \n",
            "Media: 0.98, Desvio Padrao: 0.03\n",
            "Intervalo de confiança (95%): [0.97,1.00]\n",
            "\n"
          ]
        },
        {
          "output_type": "stream",
          "name": "stderr",
          "text": [
            "/usr/local/lib/python3.10/dist-packages/sklearn/neural_network/_multilayer_perceptron.py:686: ConvergenceWarning: Stochastic Optimizer: Maximum iterations (200) reached and the optimization hasn't converged yet.\n",
            "  warnings.warn(\n",
            "/usr/local/lib/python3.10/dist-packages/sklearn/neural_network/_multilayer_perceptron.py:686: ConvergenceWarning: Stochastic Optimizer: Maximum iterations (200) reached and the optimization hasn't converged yet.\n",
            "  warnings.warn(\n",
            "/usr/local/lib/python3.10/dist-packages/sklearn/neural_network/_multilayer_perceptron.py:686: ConvergenceWarning: Stochastic Optimizer: Maximum iterations (200) reached and the optimization hasn't converged yet.\n",
            "  warnings.warn(\n",
            "/usr/local/lib/python3.10/dist-packages/sklearn/neural_network/_multilayer_perceptron.py:686: ConvergenceWarning: Stochastic Optimizer: Maximum iterations (200) reached and the optimization hasn't converged yet.\n",
            "  warnings.warn(\n",
            "/usr/local/lib/python3.10/dist-packages/sklearn/neural_network/_multilayer_perceptron.py:686: ConvergenceWarning: Stochastic Optimizer: Maximum iterations (200) reached and the optimization hasn't converged yet.\n",
            "  warnings.warn(\n",
            "/usr/local/lib/python3.10/dist-packages/sklearn/neural_network/_multilayer_perceptron.py:686: ConvergenceWarning: Stochastic Optimizer: Maximum iterations (200) reached and the optimization hasn't converged yet.\n",
            "  warnings.warn(\n",
            "/usr/local/lib/python3.10/dist-packages/sklearn/neural_network/_multilayer_perceptron.py:686: ConvergenceWarning: Stochastic Optimizer: Maximum iterations (200) reached and the optimization hasn't converged yet.\n",
            "  warnings.warn(\n",
            "/usr/local/lib/python3.10/dist-packages/sklearn/neural_network/_multilayer_perceptron.py:686: ConvergenceWarning: Stochastic Optimizer: Maximum iterations (200) reached and the optimization hasn't converged yet.\n",
            "  warnings.warn(\n"
          ]
        },
        {
          "output_type": "stream",
          "name": "stdout",
          "text": [
            "MLP(learning rate:0.0001) + StandardScaler: \n",
            "Media: 0.94, Desvio Padrao: 0.06\n",
            "Intervalo de confiança (95%): [0.91,0.98]\n",
            "\n"
          ]
        },
        {
          "output_type": "stream",
          "name": "stderr",
          "text": [
            "/usr/local/lib/python3.10/dist-packages/sklearn/neural_network/_multilayer_perceptron.py:686: ConvergenceWarning: Stochastic Optimizer: Maximum iterations (200) reached and the optimization hasn't converged yet.\n",
            "  warnings.warn(\n",
            "/usr/local/lib/python3.10/dist-packages/sklearn/neural_network/_multilayer_perceptron.py:686: ConvergenceWarning: Stochastic Optimizer: Maximum iterations (200) reached and the optimization hasn't converged yet.\n",
            "  warnings.warn(\n"
          ]
        }
      ]
    }
  ]
}